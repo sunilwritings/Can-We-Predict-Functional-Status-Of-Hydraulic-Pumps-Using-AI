{
  "nbformat": 4,
  "nbformat_minor": 0,
  "metadata": {
    "colab": {
      "provenance": [],
      "collapsed_sections": []
    },
    "kernelspec": {
      "name": "python3",
      "display_name": "Python 3"
    },
    "language_info": {
      "name": "python"
    }
  },
  "cells": [
    {
      "cell_type": "markdown",
      "source": [
        "**Problem statement:**\n",
        "\n",
        "1.This is the data from datadriven.org and collected from Tanzanian ministry of water to\n",
        "predict which pumps are functional, not functional and which pumps needs\n",
        "repair. This is a real world problem which engages citizens of Tanzania with\n",
        "local government.\n",
        "\n",
        "2.We need to predict one of three class labels based on the features like\n",
        "operating conditions, geographic location of water point, manufactured\n",
        "organization, population around the water point and operators of the water\n",
        "point and sources of water point.\n",
        "\n",
        "3.Good understanding of this problem will improve maintenance operations of\n",
        "the water points and ensure clean and seamless water supply is available to\n",
        "communities across Tanzania.\n",
        "\n"
      ],
      "metadata": {
        "id": "ij8TT-XtAHOQ"
      }
    },
    {
      "cell_type": "markdown",
      "source": [
        "**Business constraints:**\n",
        "\n",
        "1.No low latency requirements.\n",
        "\n",
        "2.Cost of error is high because operational cost will increase for each misclassification.\n"
      ],
      "metadata": {
        "id": "EyYE7oNpBw9k"
      }
    },
    {
      "cell_type": "markdown",
      "source": [
        "**Mapping in to ML problem**"
      ],
      "metadata": {
        "id": "jzHB0xbIXoTG"
      }
    },
    {
      "cell_type": "markdown",
      "source": [
        "1.This is a multi class classification problem where there is huge imbalance across class labels in dataset so we need to take micro average F1 score as an performance metric to accomodate class imbalance.\n",
        "\n",
        "2.In this case both true positives and true negatives are important because for an example if we take pump with repair as positive class but we predicted as negative i.e, false positive there is an interruption of water at water point so TP are important and if we take pump with functional as negative class and we predicted as positive i.e, false negative due to this breakdown maintenance cost will increase so in this case TP and TN both are important.\n",
        "\n",
        "**#https://www.kaggle.com/code/enforcer007/what-is-micro-averaged-f1-score/notebook**\n",
        "\n",
        "**#https://datascience.stackexchange.com/questions/15989/micro-average-vs-macro-average-performance-in-a-multiclass-classification-settin**\n",
        "\n",
        "**#https://www.analyticsvidhya.com/blog/2021/06/confusion-matrix-for-multi-class-classification/**"
      ],
      "metadata": {
        "id": "ULxjUAEAXsrt"
      }
    },
    {
      "cell_type": "markdown",
      "source": [
        "**Existing solutions:**\n",
        "\n",
        "**#https://www.researchgate.net/publication/345888631_Pump_it_Up_Data_Mining_the_Water_Table**\n",
        "\n",
        "**#https://medium.com/@vaibhavshukla182/pump-it-up-data-mining-the-water-table-f903d4cfc7a8#:~:text=It%20is%20an%20online%20data,don't%20work%20at%20all.**\n",
        "\n",
        "1.In the above solutions they performed EDA on all columns and get additional feature like how old the pumps are by subtracting date recorded of the pump and construction year of the pump and found out that older the pumps are more is the class label pumps with repair.\n",
        "\n",
        "2.The amount tsh means total static head feature i.e, amount of water availabe at the water point is right skewed distribution so applied log transformation to smoothen it yielded good result in  featurization.\n",
        "\n",
        "3.additional feature was amount of well water related to population it will get amount_tsh feature divided by population.\n",
        "\n",
        "4.In the installer and funder features there is lots of diiferent values so replaced with 20 most frequent values that helped to get good accuracy.\n",
        "\n",
        "5.Deleted correlated features and applied one hot encoding to categorical features and smote technique to tackle imbalance probelm.\n",
        "\n",
        "6.By the approach they are getting aroung 81% accuracy by applying algorithms like random forest and XG boosting.\n",
        "\n",
        "7.we will take important points from above solutions to solve our problem."
      ],
      "metadata": {
        "id": "mh74YzbWgvEj"
      }
    },
    {
      "cell_type": "code",
      "source": [
        "import warnings \n",
        "warnings.filterwarnings('ignore')\n",
        "# this lib is used while we calculate the stight line distance between two (lat,lon) pairs in miles\n",
        "!pip install gpxpy\n",
        "import gpxpy.geo #Get the haversine distance\n",
        "!pip3 install folium\n",
        "# if this doesnt work refere install_folium.JPG in drive\n",
        "import folium #open street map\n",
        "import pandas as pd\n",
        "import matplotlib.pyplot as plt\n",
        "import numpy as np\n",
        "import seaborn as sns\n",
        "from sklearn.manifold import TSNE\n",
        "from sklearn.preprocessing import StandardScaler"
      ],
      "metadata": {
        "id": "5l33ASTY8oUl",
        "colab": {
          "base_uri": "https://localhost:8080/"
        },
        "outputId": "aab3c34d-685e-41d0-c5f4-e4f03e7b1804"
      },
      "execution_count": null,
      "outputs": [
        {
          "output_type": "stream",
          "name": "stdout",
          "text": [
            "Looking in indexes: https://pypi.org/simple, https://us-python.pkg.dev/colab-wheels/public/simple/\n",
            "Collecting gpxpy\n",
            "  Downloading gpxpy-1.5.0.tar.gz (111 kB)\n",
            "\u001b[K     |████████████████████████████████| 111 kB 6.9 MB/s \n",
            "\u001b[?25hBuilding wheels for collected packages: gpxpy\n",
            "  Building wheel for gpxpy (setup.py) ... \u001b[?25l\u001b[?25hdone\n",
            "  Created wheel for gpxpy: filename=gpxpy-1.5.0-py3-none-any.whl size=42898 sha256=e4eba73e1bd127539ee62162c17d9aa0bdb36c979de79f413c67c57545e76030\n",
            "  Stored in directory: /root/.cache/pip/wheels/78/49/b6/d1851fcb4ee10fa784325d7fcf6c97789157c706ab3a71e2b6\n",
            "Successfully built gpxpy\n",
            "Installing collected packages: gpxpy\n",
            "Successfully installed gpxpy-1.5.0\n",
            "Looking in indexes: https://pypi.org/simple, https://us-python.pkg.dev/colab-wheels/public/simple/\n",
            "Requirement already satisfied: folium in /usr/local/lib/python3.7/dist-packages (0.12.1.post1)\n",
            "Requirement already satisfied: branca>=0.3.0 in /usr/local/lib/python3.7/dist-packages (from folium) (0.5.0)\n",
            "Requirement already satisfied: numpy in /usr/local/lib/python3.7/dist-packages (from folium) (1.21.6)\n",
            "Requirement already satisfied: jinja2>=2.9 in /usr/local/lib/python3.7/dist-packages (from folium) (2.11.3)\n",
            "Requirement already satisfied: requests in /usr/local/lib/python3.7/dist-packages (from folium) (2.23.0)\n",
            "Requirement already satisfied: MarkupSafe>=0.23 in /usr/local/lib/python3.7/dist-packages (from jinja2>=2.9->folium) (2.0.1)\n",
            "Requirement already satisfied: urllib3!=1.25.0,!=1.25.1,<1.26,>=1.21.1 in /usr/local/lib/python3.7/dist-packages (from requests->folium) (1.24.3)\n",
            "Requirement already satisfied: idna<3,>=2.5 in /usr/local/lib/python3.7/dist-packages (from requests->folium) (2.10)\n",
            "Requirement already satisfied: chardet<4,>=3.0.2 in /usr/local/lib/python3.7/dist-packages (from requests->folium) (3.0.4)\n",
            "Requirement already satisfied: certifi>=2017.4.17 in /usr/local/lib/python3.7/dist-packages (from requests->folium) (2022.9.24)\n"
          ]
        }
      ]
    },
    {
      "cell_type": "code",
      "execution_count": null,
      "metadata": {
        "id": "Qr4av0_N7Z5D"
      },
      "outputs": [],
      "source": [
        "df_train=pd.read_csv(\"/content/Train_data.csv\")\n",
        "df_label=pd.read_csv(\"/content/Train_class_labels.csv\")\n",
        "test_data=pd.read_csv(\"/content/Train_data.csv\")"
      ]
    },
    {
      "cell_type": "code",
      "source": [
        "train_data=pd.concat([df_train,df_label], axis=1)"
      ],
      "metadata": {
        "id": "rmuQpZTYrZQz"
      },
      "execution_count": null,
      "outputs": []
    },
    {
      "cell_type": "markdown",
      "source": [
        "**Categorical and continuous features**"
      ],
      "metadata": {
        "id": "PNbF05N8d766"
      }
    },
    {
      "cell_type": "code",
      "source": [
        "# https://stackoverflow.com/questions/29803093/check-which-columns-in-dataframe-are-categorical\n",
        "\n",
        "categorical_features = [i for i in list(train_data.select_dtypes(include=['object']).columns)if i not in ['status_group']]\n",
        "print(\"Categorical features in Train data : {} features\".format(len(categorical_features)))"
      ],
      "metadata": {
        "id": "ZuWULhj0bxlr",
        "colab": {
          "base_uri": "https://localhost:8080/"
        },
        "outputId": "de6cd2a6-eaa8-4bbd-dce5-06328c44a339"
      },
      "execution_count": null,
      "outputs": [
        {
          "output_type": "stream",
          "name": "stdout",
          "text": [
            "Categorical features in Train data : 30 features\n"
          ]
        }
      ]
    },
    {
      "cell_type": "code",
      "source": [
        "# https://stackoverflow.com/questions/29803093/check-which-columns-in-dataframe-are-categorical\n",
        "continous_features = [i for i in list(df_train.select_dtypes(include=['float64', 'int64']).columns) if i not in ['id']]\n",
        "print(\"Continuous features in Train data : {} features\".format(len(continous_features)))"
      ],
      "metadata": {
        "id": "eRYdrR57b9Di",
        "colab": {
          "base_uri": "https://localhost:8080/"
        },
        "outputId": "6470b0d0-fdf1-47f9-fa1a-62c898b23b04"
      },
      "execution_count": null,
      "outputs": [
        {
          "output_type": "stream",
          "name": "stdout",
          "text": [
            "Continuous features in Train data : 9 features\n"
          ]
        }
      ]
    },
    {
      "cell_type": "markdown",
      "source": [
        "Observations:\n",
        "\n",
        "There are 30 categorical features and 9 continuous features in our dataset."
      ],
      "metadata": {
        "id": "rE-AmAZv6vFO"
      }
    },
    {
      "cell_type": "markdown",
      "source": [
        "**Checking for class imbalance**"
      ],
      "metadata": {
        "id": "EggTxH6UEgBM"
      }
    },
    {
      "cell_type": "code",
      "source": [
        "#https://www.moonbooks.org/Articles/How-to-extract-the-value-names-and-counts-from-valuecounts-in-pandas-/\n",
        "train_data['status_group'].value_counts().plot(kind='pie',figsize=(15,8))\n",
        "plt.show()"
      ],
      "metadata": {
        "colab": {
          "base_uri": "https://localhost:8080/",
          "height": 466
        },
        "id": "DYZ_hMtkK0n5",
        "outputId": "534b2eb1-1619-459a-8f8e-41eeba37ca79"
      },
      "execution_count": null,
      "outputs": [
        {
          "output_type": "display_data",
          "data": {
            "text/plain": [
              "<Figure size 1080x576 with 1 Axes>"
            ],
            "image/png": "[encoded data removed]"
          },
          "metadata": {}
        }
      ]
    },
    {
      "cell_type": "markdown",
      "source": [
        "Observations:\n",
        "\n",
        "As per above figure we observed that classes are imbalanced so we need to \n",
        "design an machine learning algorithm and selecting performance metric so that it has low impact."
      ],
      "metadata": {
        "id": "SH6J_AOaLwae"
      }
    },
    {
      "cell_type": "markdown",
      "source": [
        "**Checking for null values**"
      ],
      "metadata": {
        "id": "MBRh5Hbs7WPt"
      }
    },
    {
      "cell_type": "code",
      "source": [
        "def nan_df_create(data):\n",
        "    \n",
        "    '''\n",
        "    Function to create a dataframe of percentage of NaN values for each column of the dataframe\n",
        "    \n",
        "    Inputs:\n",
        "        data: \n",
        "            DataFrame\n",
        "    \n",
        "    Returns:\n",
        "        DataFrame of NaN percentages\n",
        "    '''\n",
        "    \n",
        "    nan_percentages = data.isna().sum() * 100 / len(data)\n",
        "    df = pd.DataFrame({'column' : nan_percentages.index, 'percent' : nan_percentages.values})\n",
        "    \n",
        "    #sorting the dataframe by decreasing order of percentage of NaN values\n",
        "    df.sort_values(by = 'percent', ascending = False, inplace = True)\n",
        "    \n",
        "    return df"
      ],
      "metadata": {
        "id": "sOYiuQ7q7Z1N"
      },
      "execution_count": null,
      "outputs": []
    },
    {
      "cell_type": "code",
      "source": [
        "nan_df_create(train_data)"
      ],
      "metadata": {
        "colab": {
          "base_uri": "https://localhost:8080/",
          "height": 1000
        },
        "id": "oO5KnsiD7byl",
        "outputId": "0096d35c-f08e-4def-867c-ff3977998c05"
      },
      "execution_count": null,
      "outputs": [
        {
          "output_type": "execute_result",
          "data": {
            "text/plain": [
              "                   column    percent\n",
              "21            scheme_name  47.417508\n",
              "20      scheme_management   6.526936\n",
              "5               installer   6.153199\n",
              "3                  funder   6.119529\n",
              "18         public_meeting   5.612795\n",
              "22                 permit   5.144781\n",
              "11             subvillage   0.624579\n",
              "31          water_quality   0.000000\n",
              "26  extraction_type_class   0.000000\n",
              "27             management   0.000000\n",
              "28       management_group   0.000000\n",
              "29                payment   0.000000\n",
              "30           payment_type   0.000000\n",
              "33               quantity   0.000000\n",
              "32          quality_group   0.000000\n",
              "24        extraction_type   0.000000\n",
              "34         quantity_group   0.000000\n",
              "35                 source   0.000000\n",
              "36            source_type   0.000000\n",
              "37           source_class   0.000000\n",
              "38        waterpoint_type   0.000000\n",
              "39  waterpoint_type_group   0.000000\n",
              "40                     id   0.000000\n",
              "25  extraction_type_group   0.000000\n",
              "0                      id   0.000000\n",
              "23      construction_year   0.000000\n",
              "10                  basin   0.000000\n",
              "2           date_recorded   0.000000\n",
              "4              gps_height   0.000000\n",
              "6               longitude   0.000000\n",
              "7                latitude   0.000000\n",
              "8                wpt_name   0.000000\n",
              "9             num_private   0.000000\n",
              "12                 region   0.000000\n",
              "1              amount_tsh   0.000000\n",
              "13            region_code   0.000000\n",
              "14          district_code   0.000000\n",
              "15                    lga   0.000000\n",
              "16                   ward   0.000000\n",
              "17             population   0.000000\n",
              "19            recorded_by   0.000000\n",
              "41           status_group   0.000000"
            ],
            "text/html": [
              "\n",
              "  <div id=\"df-51bf6bd9-f2b0-4a28-9d2e-9aebfb22f619\">\n",
              "    <div class=\"colab-df-container\">\n",
              "      <div>\n",
              "<style scoped>\n",
              "    .dataframe tbody tr th:only-of-type {\n",
              "        vertical-align: middle;\n",
              "    }\n",
              "\n",
              "    .dataframe tbody tr th {\n",
              "        vertical-align: top;\n",
              "    }\n",
              "\n",
              "    .dataframe thead th {\n",
              "        text-align: right;\n",
              "    }\n",
              "</style>\n",
              "<table border=\"1\" class=\"dataframe\">\n",
              "  <thead>\n",
              "    <tr style=\"text-align: right;\">\n",
              "      <th></th>\n",
              "      <th>column</th>\n",
              "      <th>percent</th>\n",
              "    </tr>\n",
              "  </thead>\n",
              "  <tbody>\n",
              "    <tr>\n",
              "      <th>21</th>\n",
              "      <td>scheme_name</td>\n",
              "      <td>47.417508</td>\n",
              "    </tr>\n",
              "    <tr>\n",
              "      <th>20</th>\n",
              "      <td>scheme_management</td>\n",
              "      <td>6.526936</td>\n",
              "    </tr>\n",
              "    <tr>\n",
              "      <th>5</th>\n",
              "      <td>installer</td>\n",
              "      <td>6.153199</td>\n",
              "    </tr>\n",
              "    <tr>\n",
              "      <th>3</th>\n",
              "      <td>funder</td>\n",
              "      <td>6.119529</td>\n",
              "    </tr>\n",
              "    <tr>\n",
              "      <th>18</th>\n",
              "      <td>public_meeting</td>\n",
              "      <td>5.612795</td>\n",
              "    </tr>\n",
              "    <tr>\n",
              "      <th>22</th>\n",
              "      <td>permit</td>\n",
              "      <td>5.144781</td>\n",
              "    </tr>\n",
              "    <tr>\n",
              "      <th>11</th>\n",
              "      <td>subvillage</td>\n",
              "      <td>0.624579</td>\n",
              "    </tr>\n",
              "    <tr>\n",
              "      <th>31</th>\n",
              "      <td>water_quality</td>\n",
              "      <td>0.000000</td>\n",
              "    </tr>\n",
              "    <tr>\n",
              "      <th>26</th>\n",
              "      <td>extraction_type_class</td>\n",
              "      <td>0.000000</td>\n",
              "    </tr>\n",
              "    <tr>\n",
              "      <th>27</th>\n",
              "      <td>management</td>\n",
              "      <td>0.000000</td>\n",
              "    </tr>\n",
              "    <tr>\n",
              "      <th>28</th>\n",
              "      <td>management_group</td>\n",
              "      <td>0.000000</td>\n",
              "    </tr>\n",
              "    <tr>\n",
              "      <th>29</th>\n",
              "      <td>payment</td>\n",
              "      <td>0.000000</td>\n",
              "    </tr>\n",
              "    <tr>\n",
              "      <th>30</th>\n",
              "      <td>payment_type</td>\n",
              "      <td>0.000000</td>\n",
              "    </tr>\n",
              "    <tr>\n",
              "      <th>33</th>\n",
              "      <td>quantity</td>\n",
              "      <td>0.000000</td>\n",
              "    </tr>\n",
              "    <tr>\n",
              "      <th>32</th>\n",
              "      <td>quality_group</td>\n",
              "      <td>0.000000</td>\n",
              "    </tr>\n",
              "    <tr>\n",
              "      <th>24</th>\n",
              "      <td>extraction_type</td>\n",
              "      <td>0.000000</td>\n",
              "    </tr>\n",
              "    <tr>\n",
              "      <th>34</th>\n",
              "      <td>quantity_group</td>\n",
              "      <td>0.000000</td>\n",
              "    </tr>\n",
              "    <tr>\n",
              "      <th>35</th>\n",
              "      <td>source</td>\n",
              "      <td>0.000000</td>\n",
              "    </tr>\n",
              "    <tr>\n",
              "      <th>36</th>\n",
              "      <td>source_type</td>\n",
              "      <td>0.000000</td>\n",
              "    </tr>\n",
              "    <tr>\n",
              "      <th>37</th>\n",
              "      <td>source_class</td>\n",
              "      <td>0.000000</td>\n",
              "    </tr>\n",
              "    <tr>\n",
              "      <th>38</th>\n",
              "      <td>waterpoint_type</td>\n",
              "      <td>0.000000</td>\n",
              "    </tr>\n",
              "    <tr>\n",
              "      <th>39</th>\n",
              "      <td>waterpoint_type_group</td>\n",
              "      <td>0.000000</td>\n",
              "    </tr>\n",
              "    <tr>\n",
              "      <th>40</th>\n",
              "      <td>id</td>\n",
              "      <td>0.000000</td>\n",
              "    </tr>\n",
              "    <tr>\n",
              "      <th>25</th>\n",
              "      <td>extraction_type_group</td>\n",
              "      <td>0.000000</td>\n",
              "    </tr>\n",
              "    <tr>\n",
              "      <th>0</th>\n",
              "      <td>id</td>\n",
              "      <td>0.000000</td>\n",
              "    </tr>\n",
              "    <tr>\n",
              "      <th>23</th>\n",
              "      <td>construction_year</td>\n",
              "      <td>0.000000</td>\n",
              "    </tr>\n",
              "    <tr>\n",
              "      <th>10</th>\n",
              "      <td>basin</td>\n",
              "      <td>0.000000</td>\n",
              "    </tr>\n",
              "    <tr>\n",
              "      <th>2</th>\n",
              "      <td>date_recorded</td>\n",
              "      <td>0.000000</td>\n",
              "    </tr>\n",
              "    <tr>\n",
              "      <th>4</th>\n",
              "      <td>gps_height</td>\n",
              "      <td>0.000000</td>\n",
              "    </tr>\n",
              "    <tr>\n",
              "      <th>6</th>\n",
              "      <td>longitude</td>\n",
              "      <td>0.000000</td>\n",
              "    </tr>\n",
              "    <tr>\n",
              "      <th>7</th>\n",
              "      <td>latitude</td>\n",
              "      <td>0.000000</td>\n",
              "    </tr>\n",
              "    <tr>\n",
              "      <th>8</th>\n",
              "      <td>wpt_name</td>\n",
              "      <td>0.000000</td>\n",
              "    </tr>\n",
              "    <tr>\n",
              "      <th>9</th>\n",
              "      <td>num_private</td>\n",
              "      <td>0.000000</td>\n",
              "    </tr>\n",
              "    <tr>\n",
              "      <th>12</th>\n",
              "      <td>region</td>\n",
              "      <td>0.000000</td>\n",
              "    </tr>\n",
              "    <tr>\n",
              "      <th>1</th>\n",
              "      <td>amount_tsh</td>\n",
              "      <td>0.000000</td>\n",
              "    </tr>\n",
              "    <tr>\n",
              "      <th>13</th>\n",
              "      <td>region_code</td>\n",
              "      <td>0.000000</td>\n",
              "    </tr>\n",
              "    <tr>\n",
              "      <th>14</th>\n",
              "      <td>district_code</td>\n",
              "      <td>0.000000</td>\n",
              "    </tr>\n",
              "    <tr>\n",
              "      <th>15</th>\n",
              "      <td>lga</td>\n",
              "      <td>0.000000</td>\n",
              "    </tr>\n",
              "    <tr>\n",
              "      <th>16</th>\n",
              "      <td>ward</td>\n",
              "      <td>0.000000</td>\n",
              "    </tr>\n",
              "    <tr>\n",
              "      <th>17</th>\n",
              "      <td>population</td>\n",
              "      <td>0.000000</td>\n",
              "    </tr>\n",
              "    <tr>\n",
              "      <th>19</th>\n",
              "      <td>recorded_by</td>\n",
              "      <td>0.000000</td>\n",
              "    </tr>\n",
              "    <tr>\n",
              "      <th>41</th>\n",
              "      <td>status_group</td>\n",
              "      <td>0.000000</td>\n",
              "    </tr>\n",
              "  </tbody>\n",
              "</table>\n",
              "</div>\n",
              "      <button class=\"colab-df-convert\" onclick=\"convertToInteractive('df-51bf6bd9-f2b0-4a28-9d2e-9aebfb22f619')\"\n",
              "              title=\"Convert this dataframe to an interactive table.\"\n",
              "              style=\"display:none;\">\n",
              "        \n",
              "  <svg xmlns=\"http://www.w3.org/2000/svg\" height=\"24px\"viewBox=\"0 0 24 24\"\n",
              "       width=\"24px\">\n",
              "    <path d=\"M0 0h24v24H0V0z\" fill=\"none\"/>\n",
              "    <path d=\"M18.56 5.44l.94 2.06.94-2.06 2.06-.94-2.06-.94-.94-2.06-.94 2.06-2.06.94zm-11 1L8.5 8.5l.94-2.06 2.06-.94-2.06-.94L8.5 2.5l-.94 2.06-2.06.94zm10 10l.94 2.06.94-2.06 2.06-.94-2.06-.94-.94-2.06-.94 2.06-2.06.94z\"/><path d=\"M17.41 7.96l-1.37-1.37c-.4-.4-.92-.59-1.43-.59-.52 0-1.04.2-1.43.59L10.3 9.45l-7.72 7.72c-.78.78-.78 2.05 0 2.83L4 21.41c.39.39.9.59 1.41.59.51 0 1.02-.2 1.41-.59l7.78-7.78 2.81-2.81c.8-.78.8-2.07 0-2.86zM5.41 20L4 18.59l7.72-7.72 1.47 1.35L5.41 20z\"/>\n",
              "  </svg>\n",
              "      </button>\n",
              "      \n",
              "  <style>\n",
              "    .colab-df-container {\n",
              "      display:flex;\n",
              "      flex-wrap:wrap;\n",
              "      gap: 12px;\n",
              "    }\n",
              "\n",
              "    .colab-df-convert {\n",
              "      background-color: #E8F0FE;\n",
              "      border: none;\n",
              "      border-radius: 50%;\n",
              "      cursor: pointer;\n",
              "      display: none;\n",
              "      fill: #1967D2;\n",
              "      height: 32px;\n",
              "      padding: 0 0 0 0;\n",
              "      width: 32px;\n",
              "    }\n",
              "\n",
              "    .colab-df-convert:hover {\n",
              "      background-color: #E2EBFA;\n",
              "      box-shadow: 0px 1px 2px rgba(60, 64, 67, 0.3), 0px 1px 3px 1px rgba(60, 64, 67, 0.15);\n",
              "      fill: #174EA6;\n",
              "    }\n",
              "\n",
              "    [theme=dark] .colab-df-convert {\n",
              "      background-color: #3B4455;\n",
              "      fill: #D2E3FC;\n",
              "    }\n",
              "\n",
              "    [theme=dark] .colab-df-convert:hover {\n",
              "      background-color: #434B5C;\n",
              "      box-shadow: 0px 1px 3px 1px rgba(0, 0, 0, 0.15);\n",
              "      filter: drop-shadow(0px 1px 2px rgba(0, 0, 0, 0.3));\n",
              "      fill: #FFFFFF;\n",
              "    }\n",
              "  </style>\n",
              "\n",
              "      <script>\n",
              "        const buttonEl =\n",
              "          document.querySelector('#df-51bf6bd9-f2b0-4a28-9d2e-9aebfb22f619 button.colab-df-convert');\n",
              "        buttonEl.style.display =\n",
              "          google.colab.kernel.accessAllowed ? 'block' : 'none';\n",
              "\n",
              "        async function convertToInteractive(key) {\n",
              "          const element = document.querySelector('#df-51bf6bd9-f2b0-4a28-9d2e-9aebfb22f619');\n",
              "          const dataTable =\n",
              "            await google.colab.kernel.invokeFunction('convertToInteractive',\n",
              "                                                     [key], {});\n",
              "          if (!dataTable) return;\n",
              "\n",
              "          const docLinkHtml = 'Like what you see? Visit the ' +\n",
              "            '<a target=\"_blank\" href=https://colab.research.google.com/notebooks/data_table.ipynb>data table notebook</a>'\n",
              "            + ' to learn more about interactive tables.';\n",
              "          element.innerHTML = '';\n",
              "          dataTable['output_type'] = 'display_data';\n",
              "          await google.colab.output.renderOutput(dataTable, element);\n",
              "          const docLink = document.createElement('div');\n",
              "          docLink.innerHTML = docLinkHtml;\n",
              "          element.appendChild(docLink);\n",
              "        }\n",
              "      </script>\n",
              "    </div>\n",
              "  </div>\n",
              "  "
            ]
          },
          "metadata": {},
          "execution_count": 13
        }
      ]
    },
    {
      "cell_type": "code",
      "source": [
        "nan_df_create(test_data)"
      ],
      "metadata": {
        "colab": {
          "base_uri": "https://localhost:8080/",
          "height": 1000
        },
        "id": "wezmVotN7xYU",
        "outputId": "beb5768c-b118-49e3-e9b0-06c868654164"
      },
      "execution_count": null,
      "outputs": [
        {
          "output_type": "execute_result",
          "data": {
            "text/plain": [
              "                   column    percent\n",
              "21            scheme_name  47.417508\n",
              "20      scheme_management   6.526936\n",
              "5               installer   6.153199\n",
              "3                  funder   6.119529\n",
              "18         public_meeting   5.612795\n",
              "22                 permit   5.144781\n",
              "11             subvillage   0.624579\n",
              "28       management_group   0.000000\n",
              "38        waterpoint_type   0.000000\n",
              "24        extraction_type   0.000000\n",
              "25  extraction_type_group   0.000000\n",
              "37           source_class   0.000000\n",
              "26  extraction_type_class   0.000000\n",
              "27             management   0.000000\n",
              "36            source_type   0.000000\n",
              "35                 source   0.000000\n",
              "30           payment_type   0.000000\n",
              "31          water_quality   0.000000\n",
              "23      construction_year   0.000000\n",
              "32          quality_group   0.000000\n",
              "33               quantity   0.000000\n",
              "34         quantity_group   0.000000\n",
              "29                payment   0.000000\n",
              "0                      id   0.000000\n",
              "1              amount_tsh   0.000000\n",
              "19            recorded_by   0.000000\n",
              "17             population   0.000000\n",
              "16                   ward   0.000000\n",
              "15                    lga   0.000000\n",
              "14          district_code   0.000000\n",
              "13            region_code   0.000000\n",
              "12                 region   0.000000\n",
              "10                  basin   0.000000\n",
              "9             num_private   0.000000\n",
              "8                wpt_name   0.000000\n",
              "7                latitude   0.000000\n",
              "6               longitude   0.000000\n",
              "4              gps_height   0.000000\n",
              "2           date_recorded   0.000000\n",
              "39  waterpoint_type_group   0.000000"
            ],
            "text/html": [
              "\n",
              "  <div id=\"df-ae7ed8c3-aad1-47e1-b4d9-2e0e223218b9\">\n",
              "    <div class=\"colab-df-container\">\n",
              "      <div>\n",
              "<style scoped>\n",
              "    .dataframe tbody tr th:only-of-type {\n",
              "        vertical-align: middle;\n",
              "    }\n",
              "\n",
              "    .dataframe tbody tr th {\n",
              "        vertical-align: top;\n",
              "    }\n",
              "\n",
              "    .dataframe thead th {\n",
              "        text-align: right;\n",
              "    }\n",
              "</style>\n",
              "<table border=\"1\" class=\"dataframe\">\n",
              "  <thead>\n",
              "    <tr style=\"text-align: right;\">\n",
              "      <th></th>\n",
              "      <th>column</th>\n",
              "      <th>percent</th>\n",
              "    </tr>\n",
              "  </thead>\n",
              "  <tbody>\n",
              "    <tr>\n",
              "      <th>21</th>\n",
              "      <td>scheme_name</td>\n",
              "      <td>47.417508</td>\n",
              "    </tr>\n",
              "    <tr>\n",
              "      <th>20</th>\n",
              "      <td>scheme_management</td>\n",
              "      <td>6.526936</td>\n",
              "    </tr>\n",
              "    <tr>\n",
              "      <th>5</th>\n",
              "      <td>installer</td>\n",
              "      <td>6.153199</td>\n",
              "    </tr>\n",
              "    <tr>\n",
              "      <th>3</th>\n",
              "      <td>funder</td>\n",
              "      <td>6.119529</td>\n",
              "    </tr>\n",
              "    <tr>\n",
              "      <th>18</th>\n",
              "      <td>public_meeting</td>\n",
              "      <td>5.612795</td>\n",
              "    </tr>\n",
              "    <tr>\n",
              "      <th>22</th>\n",
              "      <td>permit</td>\n",
              "      <td>5.144781</td>\n",
              "    </tr>\n",
              "    <tr>\n",
              "      <th>11</th>\n",
              "      <td>subvillage</td>\n",
              "      <td>0.624579</td>\n",
              "    </tr>\n",
              "    <tr>\n",
              "      <th>28</th>\n",
              "      <td>management_group</td>\n",
              "      <td>0.000000</td>\n",
              "    </tr>\n",
              "    <tr>\n",
              "      <th>38</th>\n",
              "      <td>waterpoint_type</td>\n",
              "      <td>0.000000</td>\n",
              "    </tr>\n",
              "    <tr>\n",
              "      <th>24</th>\n",
              "      <td>extraction_type</td>\n",
              "      <td>0.000000</td>\n",
              "    </tr>\n",
              "    <tr>\n",
              "      <th>25</th>\n",
              "      <td>extraction_type_group</td>\n",
              "      <td>0.000000</td>\n",
              "    </tr>\n",
              "    <tr>\n",
              "      <th>37</th>\n",
              "      <td>source_class</td>\n",
              "      <td>0.000000</td>\n",
              "    </tr>\n",
              "    <tr>\n",
              "      <th>26</th>\n",
              "      <td>extraction_type_class</td>\n",
              "      <td>0.000000</td>\n",
              "    </tr>\n",
              "    <tr>\n",
              "      <th>27</th>\n",
              "      <td>management</td>\n",
              "      <td>0.000000</td>\n",
              "    </tr>\n",
              "    <tr>\n",
              "      <th>36</th>\n",
              "      <td>source_type</td>\n",
              "      <td>0.000000</td>\n",
              "    </tr>\n",
              "    <tr>\n",
              "      <th>35</th>\n",
              "      <td>source</td>\n",
              "      <td>0.000000</td>\n",
              "    </tr>\n",
              "    <tr>\n",
              "      <th>30</th>\n",
              "      <td>payment_type</td>\n",
              "      <td>0.000000</td>\n",
              "    </tr>\n",
              "    <tr>\n",
              "      <th>31</th>\n",
              "      <td>water_quality</td>\n",
              "      <td>0.000000</td>\n",
              "    </tr>\n",
              "    <tr>\n",
              "      <th>23</th>\n",
              "      <td>construction_year</td>\n",
              "      <td>0.000000</td>\n",
              "    </tr>\n",
              "    <tr>\n",
              "      <th>32</th>\n",
              "      <td>quality_group</td>\n",
              "      <td>0.000000</td>\n",
              "    </tr>\n",
              "    <tr>\n",
              "      <th>33</th>\n",
              "      <td>quantity</td>\n",
              "      <td>0.000000</td>\n",
              "    </tr>\n",
              "    <tr>\n",
              "      <th>34</th>\n",
              "      <td>quantity_group</td>\n",
              "      <td>0.000000</td>\n",
              "    </tr>\n",
              "    <tr>\n",
              "      <th>29</th>\n",
              "      <td>payment</td>\n",
              "      <td>0.000000</td>\n",
              "    </tr>\n",
              "    <tr>\n",
              "      <th>0</th>\n",
              "      <td>id</td>\n",
              "      <td>0.000000</td>\n",
              "    </tr>\n",
              "    <tr>\n",
              "      <th>1</th>\n",
              "      <td>amount_tsh</td>\n",
              "      <td>0.000000</td>\n",
              "    </tr>\n",
              "    <tr>\n",
              "      <th>19</th>\n",
              "      <td>recorded_by</td>\n",
              "      <td>0.000000</td>\n",
              "    </tr>\n",
              "    <tr>\n",
              "      <th>17</th>\n",
              "      <td>population</td>\n",
              "      <td>0.000000</td>\n",
              "    </tr>\n",
              "    <tr>\n",
              "      <th>16</th>\n",
              "      <td>ward</td>\n",
              "      <td>0.000000</td>\n",
              "    </tr>\n",
              "    <tr>\n",
              "      <th>15</th>\n",
              "      <td>lga</td>\n",
              "      <td>0.000000</td>\n",
              "    </tr>\n",
              "    <tr>\n",
              "      <th>14</th>\n",
              "      <td>district_code</td>\n",
              "      <td>0.000000</td>\n",
              "    </tr>\n",
              "    <tr>\n",
              "      <th>13</th>\n",
              "      <td>region_code</td>\n",
              "      <td>0.000000</td>\n",
              "    </tr>\n",
              "    <tr>\n",
              "      <th>12</th>\n",
              "      <td>region</td>\n",
              "      <td>0.000000</td>\n",
              "    </tr>\n",
              "    <tr>\n",
              "      <th>10</th>\n",
              "      <td>basin</td>\n",
              "      <td>0.000000</td>\n",
              "    </tr>\n",
              "    <tr>\n",
              "      <th>9</th>\n",
              "      <td>num_private</td>\n",
              "      <td>0.000000</td>\n",
              "    </tr>\n",
              "    <tr>\n",
              "      <th>8</th>\n",
              "      <td>wpt_name</td>\n",
              "      <td>0.000000</td>\n",
              "    </tr>\n",
              "    <tr>\n",
              "      <th>7</th>\n",
              "      <td>latitude</td>\n",
              "      <td>0.000000</td>\n",
              "    </tr>\n",
              "    <tr>\n",
              "      <th>6</th>\n",
              "      <td>longitude</td>\n",
              "      <td>0.000000</td>\n",
              "    </tr>\n",
              "    <tr>\n",
              "      <th>4</th>\n",
              "      <td>gps_height</td>\n",
              "      <td>0.000000</td>\n",
              "    </tr>\n",
              "    <tr>\n",
              "      <th>2</th>\n",
              "      <td>date_recorded</td>\n",
              "      <td>0.000000</td>\n",
              "    </tr>\n",
              "    <tr>\n",
              "      <th>39</th>\n",
              "      <td>waterpoint_type_group</td>\n",
              "      <td>0.000000</td>\n",
              "    </tr>\n",
              "  </tbody>\n",
              "</table>\n",
              "</div>\n",
              "      <button class=\"colab-df-convert\" onclick=\"convertToInteractive('df-ae7ed8c3-aad1-47e1-b4d9-2e0e223218b9')\"\n",
              "              title=\"Convert this dataframe to an interactive table.\"\n",
              "              style=\"display:none;\">\n",
              "        \n",
              "  <svg xmlns=\"http://www.w3.org/2000/svg\" height=\"24px\"viewBox=\"0 0 24 24\"\n",
              "       width=\"24px\">\n",
              "    <path d=\"M0 0h24v24H0V0z\" fill=\"none\"/>\n",
              "    <path d=\"M18.56 5.44l.94 2.06.94-2.06 2.06-.94-2.06-.94-.94-2.06-.94 2.06-2.06.94zm-11 1L8.5 8.5l.94-2.06 2.06-.94-2.06-.94L8.5 2.5l-.94 2.06-2.06.94zm10 10l.94 2.06.94-2.06 2.06-.94-2.06-.94-.94-2.06-.94 2.06-2.06.94z\"/><path d=\"M17.41 7.96l-1.37-1.37c-.4-.4-.92-.59-1.43-.59-.52 0-1.04.2-1.43.59L10.3 9.45l-7.72 7.72c-.78.78-.78 2.05 0 2.83L4 21.41c.39.39.9.59 1.41.59.51 0 1.02-.2 1.41-.59l7.78-7.78 2.81-2.81c.8-.78.8-2.07 0-2.86zM5.41 20L4 18.59l7.72-7.72 1.47 1.35L5.41 20z\"/>\n",
              "  </svg>\n",
              "      </button>\n",
              "      \n",
              "  <style>\n",
              "    .colab-df-container {\n",
              "      display:flex;\n",
              "      flex-wrap:wrap;\n",
              "      gap: 12px;\n",
              "    }\n",
              "\n",
              "    .colab-df-convert {\n",
              "      background-color: #E8F0FE;\n",
              "      border: none;\n",
              "      border-radius: 50%;\n",
              "      cursor: pointer;\n",
              "      display: none;\n",
              "      fill: #1967D2;\n",
              "      height: 32px;\n",
              "      padding: 0 0 0 0;\n",
              "      width: 32px;\n",
              "    }\n",
              "\n",
              "    .colab-df-convert:hover {\n",
              "      background-color: #E2EBFA;\n",
              "      box-shadow: 0px 1px 2px rgba(60, 64, 67, 0.3), 0px 1px 3px 1px rgba(60, 64, 67, 0.15);\n",
              "      fill: #174EA6;\n",
              "    }\n",
              "\n",
              "    [theme=dark] .colab-df-convert {\n",
              "      background-color: #3B4455;\n",
              "      fill: #D2E3FC;\n",
              "    }\n",
              "\n",
              "    [theme=dark] .colab-df-convert:hover {\n",
              "      background-color: #434B5C;\n",
              "      box-shadow: 0px 1px 3px 1px rgba(0, 0, 0, 0.15);\n",
              "      filter: drop-shadow(0px 1px 2px rgba(0, 0, 0, 0.3));\n",
              "      fill: #FFFFFF;\n",
              "    }\n",
              "  </style>\n",
              "\n",
              "      <script>\n",
              "        const buttonEl =\n",
              "          document.querySelector('#df-ae7ed8c3-aad1-47e1-b4d9-2e0e223218b9 button.colab-df-convert');\n",
              "        buttonEl.style.display =\n",
              "          google.colab.kernel.accessAllowed ? 'block' : 'none';\n",
              "\n",
              "        async function convertToInteractive(key) {\n",
              "          const element = document.querySelector('#df-ae7ed8c3-aad1-47e1-b4d9-2e0e223218b9');\n",
              "          const dataTable =\n",
              "            await google.colab.kernel.invokeFunction('convertToInteractive',\n",
              "                                                     [key], {});\n",
              "          if (!dataTable) return;\n",
              "\n",
              "          const docLinkHtml = 'Like what you see? Visit the ' +\n",
              "            '<a target=\"_blank\" href=https://colab.research.google.com/notebooks/data_table.ipynb>data table notebook</a>'\n",
              "            + ' to learn more about interactive tables.';\n",
              "          element.innerHTML = '';\n",
              "          dataTable['output_type'] = 'display_data';\n",
              "          await google.colab.output.renderOutput(dataTable, element);\n",
              "          const docLink = document.createElement('div');\n",
              "          docLink.innerHTML = docLinkHtml;\n",
              "          element.appendChild(docLink);\n",
              "        }\n",
              "      </script>\n",
              "    </div>\n",
              "  </div>\n",
              "  "
            ]
          },
          "metadata": {},
          "execution_count": 14
        }
      ]
    },
    {
      "cell_type": "markdown",
      "source": [
        "Observations:\n",
        "\n",
        "There are 7 columns which has null values in train data and test data"
      ],
      "metadata": {
        "id": "eCCE2ddr7_zl"
      }
    },
    {
      "cell_type": "markdown",
      "source": [
        "**EDA on Latitude and Longitude with region**"
      ],
      "metadata": {
        "id": "4cSM53EddvKG"
      }
    },
    {
      "cell_type": "markdown",
      "source": [
        "These are region wise data collected from https://www.latlong.net/place/iringa-iringa-district-tanzania-24674.html"
      ],
      "metadata": {
        "id": "TavjyFWXlMiI"
      }
    },
    {
      "cell_type": "markdown",
      "source": [
        "Iringa- -7.773094, 35.699120\n",
        "\n",
        "\n",
        "\n",
        "\n",
        "\n",
        "\n",
        "\n",
        "Shinyanga  -3.680996, 33.42713\n",
        "\n",
        "Mbeya -8.909401, 33.460773\n",
        "\n",
        "kili-3.065653, 37.352013\n",
        "\n",
        "morogoro  -6.830373, 37.670589\n",
        "\n",
        "arusha -3.386925, 36.682995\n",
        "\n",
        "mawanja -15.609150, 34.522820\n",
        "\n",
        "kagera -1.9167, 31.3000\n",
        "\n",
        "kigoma -4.893941, 29.673386\n",
        "\n",
        "ravuma -10.52023, 35.42542\n",
        "\n",
        "pawami -7.0000, 39.0000\n",
        "\n",
        "tanga -5.0667 39.1000\n",
        "\n",
        "Dodoma -6.161184 35.745426\n",
        "\n",
        "Singida -6.745335,34.153195\n",
        "\n",
        "tabora -5.030461,32.819431\n",
        "\n",
        "Rukwa -7.0000 ,31.5000\n",
        "\n",
        "matwara -10.66667 ,39\n",
        "\n",
        "manyara -3.5833,35.8333\n",
        "\n",
        "Lindi -9.987608, 39.698248\n",
        "\n",
        "Dar es Salaam-6.776012, 39.178326\n",
        "\n"
      ],
      "metadata": {
        "id": "Y10OVtccakac"
      }
    },
    {
      "cell_type": "code",
      "source": [
        "train_data['region'].unique()"
      ],
      "metadata": {
        "colab": {
          "base_uri": "https://localhost:8080/"
        },
        "id": "tza8i-wndhAY",
        "outputId": "2228e1bd-a4b2-4189-fa83-31643b7556fe"
      },
      "execution_count": null,
      "outputs": [
        {
          "output_type": "execute_result",
          "data": {
            "text/plain": [
              "array(['Iringa', 'Mara', 'Manyara', 'Mtwara', 'Kagera', 'Tanga',\n",
              "       'Shinyanga', 'Tabora', 'Pwani', 'Ruvuma', 'Kilimanjaro', 'Rukwa',\n",
              "       'Mwanza', 'Kigoma', 'Lindi', 'Dodoma', 'Arusha', 'Mbeya',\n",
              "       'Singida', 'Morogoro', 'Dar es Salaam'], dtype=object)"
            ]
          },
          "metadata": {},
          "execution_count": 15
        }
      ]
    },
    {
      "cell_type": "markdown",
      "source": [
        "**Box plots for Latitude and Longitude features**"
      ],
      "metadata": {
        "id": "jhQS5pItPqjm"
      }
    },
    {
      "cell_type": "markdown",
      "source": [
        "Preparing data to visualize latitude and longitude"
      ],
      "metadata": {
        "id": "2n4QnFvkaIiJ"
      }
    },
    {
      "cell_type": "code",
      "source": [
        "df2=train_data[['region','latitude','longitude']]\n",
        "df2.set_index(\"region\", inplace = True)"
      ],
      "metadata": {
        "id": "Ue-RzsiEZXMa"
      },
      "execution_count": null,
      "outputs": []
    },
    {
      "cell_type": "code",
      "source": [
        "df_Iringa=df2.loc[[\"Iringa\"],[\"latitude\",\"longitude\"]]\n",
        "df_Mara=df2.loc[[\"Mara\"],[\"latitude\",\"longitude\"]]\n",
        "df_Manyara=df2.loc[[\"Manyara\"],[\"latitude\",\"longitude\"]]\n",
        "df_Mtwara=df2.loc[[\"Mtwara\"],[\"latitude\",\"longitude\"]]\n",
        "df_Kagera=df2.loc[[\"Kagera\"],[\"latitude\",\"longitude\"]]\n",
        "df_Tanga=df2.loc[[\"Tanga\"],[\"latitude\",\"longitude\"]]\n",
        "df_Shinyanga=df2.loc[[\"Shinyanga\"],[\"latitude\",\"longitude\"]]\n",
        "df_Tabora=df2.loc[[\"Tabora\"],[\"latitude\",\"longitude\"]]\n",
        "df_Pwani=df2.loc[[\"Pwani\"],[\"latitude\",\"longitude\"]]\n",
        "df_Ruvuma=df2.loc[[\"Ruvuma\"],[\"latitude\",\"longitude\"]]\n",
        "df_Kilimanjaro=df2.loc[[\"Kilimanjaro\"],[\"latitude\",\"longitude\"]]\n",
        "df_Rukwa=df2.loc[[\"Rukwa\"],[\"latitude\",\"longitude\"]]\n",
        "df_Mwanza=df2.loc[[\"Mwanza\"],[\"latitude\",\"longitude\"]]\n",
        "df_Kigoma=df2.loc[[\"Kigoma\"],[\"latitude\",\"longitude\"]]\n",
        "df_Lindi=df2.loc[[\"Lindi\"],[\"latitude\",\"longitude\"]]\n",
        "df_Dodoma=df2.loc[[\"Dodoma\"],[\"latitude\",\"longitude\"]]\n",
        "df_Arusha=df2.loc[[\"Arusha\"],[\"latitude\",\"longitude\"]]\n",
        "df_Mbeya=df2.loc[[\"Mbeya\"],[\"latitude\",\"longitude\"]]\n",
        "df_Singida=df2.loc[[\"Singida\"],[\"latitude\",\"longitude\"]]\n",
        "df_Morogoro=df2.loc[[\"Morogoro\"],[\"latitude\",\"longitude\"]]\n",
        "df_Dar_es_Salaam=df2.loc[[\"Dar es Salaam\"],[\"latitude\",\"longitude\"]]"
      ],
      "metadata": {
        "id": "N_GjLFpKWz-B"
      },
      "execution_count": null,
      "outputs": []
    },
    {
      "cell_type": "markdown",
      "source": [
        "**Latitudes**"
      ],
      "metadata": {
        "id": "wCS9om-zQCNV"
      }
    },
    {
      "cell_type": "code",
      "source": [
        "data_region=[df_Iringa['latitude'],df_Mara['latitude'],df_Manyara['latitude'],df_Mtwara['latitude'],df_Kagera['latitude'],df_Tanga['latitude']\\\n",
        "             ,df_Shinyanga['latitude'],df_Tabora['latitude'],df_Pwani['latitude'],df_Ruvuma['latitude'],df_Kilimanjaro['latitude'],df_Rukwa['latitude']\\\n",
        "             ,df_Mwanza['latitude'],df_Kigoma['latitude'],df_Lindi['latitude'],df_Dodoma['latitude'],df_Arusha['latitude'],df_Mbeya['latitude'],df_Singida['latitude']\n",
        "             ,df_Morogoro['latitude'],df_Dar_es_Salaam['latitude']]\n",
        "fig = plt.figure(figsize =(15, 10))\n",
        "fig.suptitle('Regions and their latitudes', fontsize=20, fontweight='bold')\n",
        "# Creating axes instance\n",
        "ax = fig.add_axes([0, 0, 1, 1])\n",
        "# Creating plot\n",
        "plt.boxplot(data_region)\n",
        "# show plot\n",
        "plt.show()"
      ],
      "metadata": {
        "colab": {
          "base_uri": "https://localhost:8080/",
          "height": 768
        },
        "id": "nOhaToN3cO9M",
        "outputId": "6cef37dd-4301-42b5-e4f9-9089bab206f8"
      },
      "execution_count": null,
      "outputs": [
        {
          "output_type": "display_data",
          "data": {
            "text/plain": [
              "<Figure size 1080x720 with 1 Axes>"
            ],
            "image/png": "[encoded data removed]"
          },
          "metadata": {
            "needs_background": "light"
          }
        }
      ]
    },
    {
      "cell_type": "markdown",
      "source": [
        "Observations:\n",
        "\n",
        "From the above plots we observed lot of extreme values so we will try to fill with median imputation."
      ],
      "metadata": {
        "id": "edjQxf9CSxoB"
      }
    },
    {
      "cell_type": "markdown",
      "source": [
        "**Longitudes**"
      ],
      "metadata": {
        "id": "Pg3D-404QGId"
      }
    },
    {
      "cell_type": "code",
      "source": [
        "data_region2=[df_Iringa['longitude'],df_Mara['longitude'],df_Manyara['longitude'],df_Mtwara['longitude'],df_Kagera['longitude'],df_Tanga['longitude']\\\n",
        "             ,df_Shinyanga['longitude'],df_Tabora['longitude'],df_Pwani['longitude'],df_Ruvuma['longitude'],df_Kilimanjaro['latitude'],df_Rukwa['longitude']\\\n",
        "             ,df_Mwanza['longitude'],df_Kigoma['longitude'],df_Lindi['longitude'],df_Dodoma['longitude'],df_Arusha['longitude'],df_Mbeya['longitude'],df_Singida['longitude']\n",
        "             ,df_Morogoro['longitude'],df_Dar_es_Salaam['longitude']]\n",
        "fig = plt.figure(figsize =(15, 10))\n",
        "fig.suptitle('Regions and their longitudes', fontsize=20, fontweight='bold')\n",
        "# Creating axes instance\n",
        "ax = fig.add_axes([0, 0, 1, 1])\n",
        "# Creating plot\n",
        "plt.boxplot(data_region2)\n",
        "# show plot\n",
        "plt.show()"
      ],
      "metadata": {
        "colab": {
          "base_uri": "https://localhost:8080/",
          "height": 768
        },
        "id": "HNkYOAChQFst",
        "outputId": "a4328b20-28a8-42fd-b090-dfd97d65f3ce"
      },
      "execution_count": null,
      "outputs": [
        {
          "output_type": "display_data",
          "data": {
            "text/plain": [
              "<Figure size 1080x720 with 1 Axes>"
            ],
            "image/png": "[encoded data removed]"
          },
          "metadata": {
            "needs_background": "light"
          }
        }
      ]
    },
    {
      "cell_type": "markdown",
      "source": [
        "Observations:\n",
        "\n",
        "From the above plots we observed lot of extreme values so we will try to fill with median imputation."
      ],
      "metadata": {
        "id": "4kW-cGicSL5G"
      }
    },
    {
      "cell_type": "markdown",
      "source": [
        "**Visualising outliers in region**"
      ],
      "metadata": {
        "id": "Nunv-TCeuHk7"
      }
    },
    {
      "cell_type": "code",
      "source": [
        "outlier_locations = df2[((df2.longitude >= 39) | (df2.latitude <= -15))]\n",
        "\n",
        "# creating a map with the a base location\n",
        "# read more about the folium here: http://folium.readthedocs.io/en/latest/quickstart.html\n",
        "\n",
        "\n",
        "map_osm = folium.Map(location=[39.698298, -15.609150], tiles='Stamen Toner')\n",
        "# we will spot only first 100 outliers on the map, plotting all the outliers will take more time\n",
        "sample_locations = outlier_locations.head(100)\n",
        "for i,j in sample_locations.iterrows():\n",
        "    if int(j['latitude']) != 0:\n",
        "        folium.Marker(list((j['latitude'],j['longitude']))).add_to(map_osm)\n",
        "map_osm"
      ],
      "metadata": {
        "colab": {
          "base_uri": "https://localhost:8080/",
          "height": 712
        },
        "id": "IWrNKWgZkt_k",
        "outputId": "617903d0-07fb-4226-de46-bdfcef95f342"
      },
      "execution_count": null,
      "outputs": [
        {
          "output_type": "execute_result",
          "data": {
            "text/plain": [
              "<folium.folium.Map at 0x7fd8b0e115d0>"
            ],
            "text/html": [
              "<div style=\"width:100%;\"><div style=\"position:relative;width:100%;height:0;padding-bottom:60%;\"><span style=\"color:#565656\">Make this Notebook Trusted to load map: File -> Trust Notebook</span><iframe srcdoc=\"&lt;!DOCTYPE html&gt;\n",
              "&lt;head&gt;    \n",
              "    &lt;meta http-equiv=&quot;content-type&quot; content=&quot;text/html; charset=UTF-8&quot; /&gt;\n",
              "    \n",
              "        &lt;script&gt;\n",
              "            L_NO_TOUCH = false;\n",
              "            L_DISABLE_3D = false;\n",
              "        &lt;/script&gt;\n",
              "    \n",
              "    &lt;style&gt;html, body {width: 100%;height: 100%;margin: 0;padding: 0;}&lt;/style&gt;\n",
              "    &lt;style&gt;#map {position:absolute;top:0;bottom:0;right:0;left:0;}&lt;/style&gt;\n",
              "    &lt;script src=&quot;https://cdn.jsdelivr.net/npm/leaflet@1.6.0/dist/leaflet.js&quot;&gt;&lt;/script&gt;\n",
              "    &lt;script src=&quot;https://code.jquery.com/jquery-1.12.4.min.js&quot;&gt;&lt;/script&gt;\n",
              "    &lt;script src=&quot;https://maxcdn.bootstrapcdn.com/bootstrap/3.2.0/js/bootstrap.min.js&quot;&gt;&lt;/script&gt;\n",
              "    &lt;script src=&quot;https://cdnjs.cloudflare.com/ajax/libs/Leaflet.awesome-markers/2.0.2/leaflet.awesome-markers.js&quot;&gt;&lt;/script&gt;\n",
              "    &lt;link rel=&quot;stylesheet&quot; href=&quot;https://cdn.jsdelivr.net/npm/leaflet@1.6.0/dist/leaflet.css&quot;/&gt;\n",
              "    &lt;link rel=&quot;stylesheet&quot; href=&quot;https://maxcdn.bootstrapcdn.com/bootstrap/3.2.0/css/bootstrap.min.css&quot;/&gt;\n",
              "    &lt;link rel=&quot;stylesheet&quot; href=&quot;https://maxcdn.bootstrapcdn.com/bootstrap/3.2.0/css/bootstrap-theme.min.css&quot;/&gt;\n",
              "    &lt;link rel=&quot;stylesheet&quot; href=&quot;https://maxcdn.bootstrapcdn.com/font-awesome/4.6.3/css/font-awesome.min.css&quot;/&gt;\n",
              "    &lt;link rel=&quot;stylesheet&quot; href=&quot;https://cdnjs.cloudflare.com/ajax/libs/Leaflet.awesome-markers/2.0.2/leaflet.awesome-markers.css&quot;/&gt;\n",
              "    &lt;link rel=&quot;stylesheet&quot; href=&quot;https://cdn.jsdelivr.net/gh/python-visualization/folium/folium/templates/leaflet.awesome.rotate.min.css&quot;/&gt;\n",
              "    \n",
              "            &lt;meta name=&quot;viewport&quot; content=&quot;width=device-width,\n",
              "                initial-scale=1.0, maximum-scale=1.0, user-scalable=no&quot; /&gt;\n",
              "            &lt;style&gt;\n",
              "                #map_ef591bf3d2f262eca39785f3f6e187ed {\n",
              "                    position: relative;\n",
              "                    width: 100.0%;\n",
              "                    height: 100.0%;\n",
              "                    left: 0.0%;\n",
              "                    top: 0.0%;\n",
              "                }\n",
              "            &lt;/style&gt;\n",
              "        \n",
              "&lt;/head&gt;\n",
              "&lt;body&gt;    \n",
              "    \n",
              "            &lt;div class=&quot;folium-map&quot; id=&quot;map_ef591bf3d2f262eca39785f3f6e187ed&quot; &gt;&lt;/div&gt;\n",
              "        \n",
              "&lt;/body&gt;\n",
              "&lt;script&gt;    \n",
              "    \n",
              "            var map_ef591bf3d2f262eca39785f3f6e187ed = L.map(\n",
              "                &quot;map_ef591bf3d2f262eca39785f3f6e187ed&quot;,\n",
              "                {\n",
              "                    center: [39.698298, -15.60915],\n",
              "                    crs: L.CRS.EPSG3857,\n",
              "                    zoom: 10,\n",
              "                    zoomControl: true,\n",
              "                    preferCanvas: false,\n",
              "                }\n",
              "            );\n",
              "\n",
              "            \n",
              "\n",
              "        \n",
              "    \n",
              "            var tile_layer_378378d34ea7c8aaab2a120160e22922 = L.tileLayer(\n",
              "                &quot;https://stamen-tiles-{s}.a.ssl.fastly.net/toner/{z}/{x}/{y}.png&quot;,\n",
              "                {&quot;attribution&quot;: &quot;Map tiles by \\u003ca href=\\&quot;http://stamen.com\\&quot;\\u003eStamen Design\\u003c/a\\u003e, under \\u003ca href=\\&quot;http://creativecommons.org/licenses/by/3.0\\&quot;\\u003eCC BY 3.0\\u003c/a\\u003e. Data by \\u0026copy; \\u003ca href=\\&quot;http://openstreetmap.org\\&quot;\\u003eOpenStreetMap\\u003c/a\\u003e, under \\u003ca href=\\&quot;http://www.openstreetmap.org/copyright\\&quot;\\u003eODbL\\u003c/a\\u003e.&quot;, &quot;detectRetina&quot;: false, &quot;maxNativeZoom&quot;: 18, &quot;maxZoom&quot;: 18, &quot;minZoom&quot;: 0, &quot;noWrap&quot;: false, &quot;opacity&quot;: 1, &quot;subdomains&quot;: &quot;abc&quot;, &quot;tms&quot;: false}\n",
              "            ).addTo(map_ef591bf3d2f262eca39785f3f6e187ed);\n",
              "        \n",
              "    \n",
              "            var marker_8acb6263b6510fdc712e96a07acfdc02 = L.marker(\n",
              "                [-4.76558728, 39.1727956],\n",
              "                {}\n",
              "            ).addTo(map_ef591bf3d2f262eca39785f3f6e187ed);\n",
              "        \n",
              "    \n",
              "            var marker_307eb58565298de887e9e767707f39eb = L.marker(\n",
              "                [-7.03413939, 39.20951812],\n",
              "                {}\n",
              "            ).addTo(map_ef591bf3d2f262eca39785f3f6e187ed);\n",
              "        \n",
              "    \n",
              "            var marker_614d86295023bdbeb353ce22453cb80b = L.marker(\n",
              "                [-9.94253166, 39.37077651],\n",
              "                {}\n",
              "            ).addTo(map_ef591bf3d2f262eca39785f3f6e187ed);\n",
              "        \n",
              "    \n",
              "            var marker_f89de1f25435b6cca5d966b8a991929c = L.marker(\n",
              "                [-7.889986299999999, 39.81291224],\n",
              "                {}\n",
              "            ).addTo(map_ef591bf3d2f262eca39785f3f6e187ed);\n",
              "        \n",
              "    \n",
              "            var marker_3db289d21376c2ca05c03758ba5006cc = L.marker(\n",
              "                [-11.00060373, 39.08741514],\n",
              "                {}\n",
              "            ).addTo(map_ef591bf3d2f262eca39785f3f6e187ed);\n",
              "        \n",
              "    \n",
              "            var marker_e56b5c90cf96506905fc6ae0df0d1ded = L.marker(\n",
              "                [-4.99423737, 39.04298326],\n",
              "                {}\n",
              "            ).addTo(map_ef591bf3d2f262eca39785f3f6e187ed);\n",
              "        \n",
              "    \n",
              "            var marker_ae0cd805f372a5966f9a0bf445a78dc4 = L.marker(\n",
              "                [-10.13363156, 39.88898115],\n",
              "                {}\n",
              "            ).addTo(map_ef591bf3d2f262eca39785f3f6e187ed);\n",
              "        \n",
              "    \n",
              "            var marker_29f6fd7b8c4c403d23a33f2fc091c132 = L.marker(\n",
              "                [-6.89259326, 39.1857105],\n",
              "                {}\n",
              "            ).addTo(map_ef591bf3d2f262eca39785f3f6e187ed);\n",
              "        \n",
              "    \n",
              "            var marker_57004ef8c30c0cd068cae41ad6230748 = L.marker(\n",
              "                [-10.02772132, 39.6002343],\n",
              "                {}\n",
              "            ).addTo(map_ef591bf3d2f262eca39785f3f6e187ed);\n",
              "        \n",
              "    \n",
              "            var marker_5c841e10bc1e6cf3f646381ddbcddb83 = L.marker(\n",
              "                [-6.98874758, 39.52711433],\n",
              "                {}\n",
              "            ).addTo(map_ef591bf3d2f262eca39785f3f6e187ed);\n",
              "        \n",
              "    \n",
              "            var marker_7d14acda146f48e54572304a68a04602 = L.marker(\n",
              "                [-9.70159734, 39.55938321],\n",
              "                {}\n",
              "            ).addTo(map_ef591bf3d2f262eca39785f3f6e187ed);\n",
              "        \n",
              "    \n",
              "            var marker_437de340d700ec9413de76524400fc61 = L.marker(\n",
              "                [-10.9753631, 39.08229758],\n",
              "                {}\n",
              "            ).addTo(map_ef591bf3d2f262eca39785f3f6e187ed);\n",
              "        \n",
              "    \n",
              "            var marker_88e6016e82fa72ea512341695cc83b71 = L.marker(\n",
              "                [-7.90660636, 39.67094346],\n",
              "                {}\n",
              "            ).addTo(map_ef591bf3d2f262eca39785f3f6e187ed);\n",
              "        \n",
              "    \n",
              "            var marker_5b4cf9df6638a445ffc62277d894f116 = L.marker(\n",
              "                [-7.78306327, 39.8543204],\n",
              "                {}\n",
              "            ).addTo(map_ef591bf3d2f262eca39785f3f6e187ed);\n",
              "        \n",
              "    \n",
              "            var marker_b33311be8808dc78958b0b3045ad7a7f = L.marker(\n",
              "                [-10.60671713, 39.77883219],\n",
              "                {}\n",
              "            ).addTo(map_ef591bf3d2f262eca39785f3f6e187ed);\n",
              "        \n",
              "    \n",
              "            var marker_56b8a8718ea372bc75ffeff40cf20944 = L.marker(\n",
              "                [-10.99280378, 39.33063258],\n",
              "                {}\n",
              "            ).addTo(map_ef591bf3d2f262eca39785f3f6e187ed);\n",
              "        \n",
              "    \n",
              "            var marker_5b0abcce9d218fb64d21fe4ea029e542 = L.marker(\n",
              "                [-4.9549518, 39.09126059],\n",
              "                {}\n",
              "            ).addTo(map_ef591bf3d2f262eca39785f3f6e187ed);\n",
              "        \n",
              "    \n",
              "            var marker_2270a20b8064b9b5b9fba0b33cf2719f = L.marker(\n",
              "                [-7.36829284, 39.24417821],\n",
              "                {}\n",
              "            ).addTo(map_ef591bf3d2f262eca39785f3f6e187ed);\n",
              "        \n",
              "    \n",
              "            var marker_7a6d6382c869c8f4a3e72910161faa1e = L.marker(\n",
              "                [-10.37243798, 39.76790839],\n",
              "                {}\n",
              "            ).addTo(map_ef591bf3d2f262eca39785f3f6e187ed);\n",
              "        \n",
              "    \n",
              "            var marker_51e0a0a61f7542db9d889555fc822c6b = L.marker(\n",
              "                [-4.75461109, 39.11013687],\n",
              "                {}\n",
              "            ).addTo(map_ef591bf3d2f262eca39785f3f6e187ed);\n",
              "        \n",
              "    \n",
              "            var marker_438b93d5f0dbf918abcec1e54cd25b58 = L.marker(\n",
              "                [-10.84665973, 39.73445071],\n",
              "                {}\n",
              "            ).addTo(map_ef591bf3d2f262eca39785f3f6e187ed);\n",
              "        \n",
              "    \n",
              "            var marker_43e84c401afc20a62f581e5b41792e1b = L.marker(\n",
              "                [-7.9593708, 39.68832862],\n",
              "                {}\n",
              "            ).addTo(map_ef591bf3d2f262eca39785f3f6e187ed);\n",
              "        \n",
              "    \n",
              "            var marker_7c12c3d0c3ed3c1fc00b5ea829f348f6 = L.marker(\n",
              "                [-10.32095944, 40.30198716],\n",
              "                {}\n",
              "            ).addTo(map_ef591bf3d2f262eca39785f3f6e187ed);\n",
              "        \n",
              "    \n",
              "            var marker_89ce85feed00db0e103d134cbc4235e4 = L.marker(\n",
              "                [-10.28367558, 40.11676805],\n",
              "                {}\n",
              "            ).addTo(map_ef591bf3d2f262eca39785f3f6e187ed);\n",
              "        \n",
              "    \n",
              "            var marker_e9a1b9eb2ba97fff283944ec01dd01b6 = L.marker(\n",
              "                [-8.85092324, 39.46211242],\n",
              "                {}\n",
              "            ).addTo(map_ef591bf3d2f262eca39785f3f6e187ed);\n",
              "        \n",
              "    \n",
              "            var marker_d8f975f98d28893f8c73bb26e95df77c = L.marker(\n",
              "                [-10.56919171, 39.73442461],\n",
              "                {}\n",
              "            ).addTo(map_ef591bf3d2f262eca39785f3f6e187ed);\n",
              "        \n",
              "    \n",
              "            var marker_4d6e48f01b2ac63df61c333d8e17e343 = L.marker(\n",
              "                [-8.14122174, 39.18336934],\n",
              "                {}\n",
              "            ).addTo(map_ef591bf3d2f262eca39785f3f6e187ed);\n",
              "        \n",
              "    \n",
              "            var marker_7922fa2d98e49451500feccbd45881e1 = L.marker(\n",
              "                [-6.90254757, 39.15988725],\n",
              "                {}\n",
              "            ).addTo(map_ef591bf3d2f262eca39785f3f6e187ed);\n",
              "        \n",
              "    \n",
              "            var marker_086c69aa5088d680887889b0581feb69 = L.marker(\n",
              "                [-10.66709242, 39.30951061],\n",
              "                {}\n",
              "            ).addTo(map_ef591bf3d2f262eca39785f3f6e187ed);\n",
              "        \n",
              "    \n",
              "            var marker_590287526688106b3e2912d35ed23949 = L.marker(\n",
              "                [-6.93801296, 39.17840407],\n",
              "                {}\n",
              "            ).addTo(map_ef591bf3d2f262eca39785f3f6e187ed);\n",
              "        \n",
              "    \n",
              "            var marker_9f21b98f5c529699a30115cf64b15360 = L.marker(\n",
              "                [-6.72041799, 39.04848579],\n",
              "                {}\n",
              "            ).addTo(map_ef591bf3d2f262eca39785f3f6e187ed);\n",
              "        \n",
              "    \n",
              "            var marker_5a1f123fb32cb4f4e09ec3a017dc4306 = L.marker(\n",
              "                [-6.97320593, 39.17884933],\n",
              "                {}\n",
              "            ).addTo(map_ef591bf3d2f262eca39785f3f6e187ed);\n",
              "        \n",
              "    \n",
              "            var marker_2e4ab3149f0f896193241fb602b2f085 = L.marker(\n",
              "                [-7.65826289, 39.14943018],\n",
              "                {}\n",
              "            ).addTo(map_ef591bf3d2f262eca39785f3f6e187ed);\n",
              "        \n",
              "    \n",
              "            var marker_95079cfa1baab3b376ac62d7c7ac614e = L.marker(\n",
              "                [-8.88165906, 39.49151322],\n",
              "                {}\n",
              "            ).addTo(map_ef591bf3d2f262eca39785f3f6e187ed);\n",
              "        \n",
              "    \n",
              "            var marker_fe236320807bae38846ef555b9056fa7 = L.marker(\n",
              "                [-10.90308413, 39.57054828],\n",
              "                {}\n",
              "            ).addTo(map_ef591bf3d2f262eca39785f3f6e187ed);\n",
              "        \n",
              "    \n",
              "            var marker_017f90320826320cb1074c5ac4f2807a = L.marker(\n",
              "                [-9.86254017, 39.07821972],\n",
              "                {}\n",
              "            ).addTo(map_ef591bf3d2f262eca39785f3f6e187ed);\n",
              "        \n",
              "    \n",
              "            var marker_45ef538203ba4f2c38033d237dc64af7 = L.marker(\n",
              "                [-7.10135725, 39.40299419],\n",
              "                {}\n",
              "            ).addTo(map_ef591bf3d2f262eca39785f3f6e187ed);\n",
              "        \n",
              "    \n",
              "            var marker_b6703277a1f03af826e10231df8a0f99 = L.marker(\n",
              "                [-10.27672535, 40.10847456],\n",
              "                {}\n",
              "            ).addTo(map_ef591bf3d2f262eca39785f3f6e187ed);\n",
              "        \n",
              "    \n",
              "            var marker_e3e21ff14110f02115b0fd7fe67a6fa8 = L.marker(\n",
              "                [-10.80867395, 39.00497633],\n",
              "                {}\n",
              "            ).addTo(map_ef591bf3d2f262eca39785f3f6e187ed);\n",
              "        \n",
              "    \n",
              "            var marker_b3e1f5ec0f731016ae49cb760b227819 = L.marker(\n",
              "                [-7.09627911, 39.43371534],\n",
              "                {}\n",
              "            ).addTo(map_ef591bf3d2f262eca39785f3f6e187ed);\n",
              "        \n",
              "    \n",
              "            var marker_6cd5744325d232a19641479e40a93682 = L.marker(\n",
              "                [-10.29430628, 40.18009415],\n",
              "                {}\n",
              "            ).addTo(map_ef591bf3d2f262eca39785f3f6e187ed);\n",
              "        \n",
              "    \n",
              "            var marker_d3421570a29045341ac53e1c82d4bbfc = L.marker(\n",
              "                [-9.83372178, 39.58807065],\n",
              "                {}\n",
              "            ).addTo(map_ef591bf3d2f262eca39785f3f6e187ed);\n",
              "        \n",
              "    \n",
              "            var marker_0b0e2ae4247b316cc8dba9ecc76173af = L.marker(\n",
              "                [-7.32666569, 39.22813309],\n",
              "                {}\n",
              "            ).addTo(map_ef591bf3d2f262eca39785f3f6e187ed);\n",
              "        \n",
              "    \n",
              "            var marker_f838d88727acd424b95642becf1d0ba0 = L.marker(\n",
              "                [-6.91390781, 39.13540896],\n",
              "                {}\n",
              "            ).addTo(map_ef591bf3d2f262eca39785f3f6e187ed);\n",
              "        \n",
              "    \n",
              "            var marker_6dfe55044f6cd98bdd725c98fe860670 = L.marker(\n",
              "                [-10.90191427, 39.11203037],\n",
              "                {}\n",
              "            ).addTo(map_ef591bf3d2f262eca39785f3f6e187ed);\n",
              "        \n",
              "    \n",
              "            var marker_45f99d7cc6ab6e1c35f7fc4419f0a970 = L.marker(\n",
              "                [-7.10179035, 39.00010861],\n",
              "                {}\n",
              "            ).addTo(map_ef591bf3d2f262eca39785f3f6e187ed);\n",
              "        \n",
              "    \n",
              "            var marker_a33639fa345f69525062d1428245ea25 = L.marker(\n",
              "                [-10.04794964, 39.61838747],\n",
              "                {}\n",
              "            ).addTo(map_ef591bf3d2f262eca39785f3f6e187ed);\n",
              "        \n",
              "    \n",
              "            var marker_241d48ae5cc1e88ca07e0a8809a388bf = L.marker(\n",
              "                [-7.10763364, 39.38913797],\n",
              "                {}\n",
              "            ).addTo(map_ef591bf3d2f262eca39785f3f6e187ed);\n",
              "        \n",
              "    \n",
              "            var marker_baa676afada55ca41861ee1b34cccba4 = L.marker(\n",
              "                [-6.90190842, 39.44163826],\n",
              "                {}\n",
              "            ).addTo(map_ef591bf3d2f262eca39785f3f6e187ed);\n",
              "        \n",
              "    \n",
              "            var marker_ae71b2efa033617dcaacb524ab8365ab = L.marker(\n",
              "                [-7.41749909, 39.25586996],\n",
              "                {}\n",
              "            ).addTo(map_ef591bf3d2f262eca39785f3f6e187ed);\n",
              "        \n",
              "    \n",
              "            var marker_a0273846c664833bc5784d8368e6bcb0 = L.marker(\n",
              "                [-7.420656500000001, 39.02538594],\n",
              "                {}\n",
              "            ).addTo(map_ef591bf3d2f262eca39785f3f6e187ed);\n",
              "        \n",
              "    \n",
              "            var marker_141ae647c0ad9d6fce47db3d3d9bb58d = L.marker(\n",
              "                [-9.90286201, 39.11931398],\n",
              "                {}\n",
              "            ).addTo(map_ef591bf3d2f262eca39785f3f6e187ed);\n",
              "        \n",
              "    \n",
              "            var marker_9fcf23658bf9070f882f5cf365f6b739 = L.marker(\n",
              "                [-10.16058464, 39.95981636],\n",
              "                {}\n",
              "            ).addTo(map_ef591bf3d2f262eca39785f3f6e187ed);\n",
              "        \n",
              "    \n",
              "            var marker_499300c8a2a303cd70b655737494c47f = L.marker(\n",
              "                [-6.89004147, 39.11655424],\n",
              "                {}\n",
              "            ).addTo(map_ef591bf3d2f262eca39785f3f6e187ed);\n",
              "        \n",
              "    \n",
              "            var marker_2642cf71709dd649977874a5675444cb = L.marker(\n",
              "                [-10.49578459, 40.34519307],\n",
              "                {}\n",
              "            ).addTo(map_ef591bf3d2f262eca39785f3f6e187ed);\n",
              "        \n",
              "    \n",
              "            var marker_5aab36c229236311ce08c7d6cc651018 = L.marker(\n",
              "                [-9.94576837, 39.32440422],\n",
              "                {}\n",
              "            ).addTo(map_ef591bf3d2f262eca39785f3f6e187ed);\n",
              "        \n",
              "    \n",
              "            var marker_7f4ccb5cb4cbb907709cc47fc35bbe54 = L.marker(\n",
              "                [-10.3085438, 40.14849132],\n",
              "                {}\n",
              "            ).addTo(map_ef591bf3d2f262eca39785f3f6e187ed);\n",
              "        \n",
              "    \n",
              "            var marker_ab51ab1e9083f25c95fc53960663af9a = L.marker(\n",
              "                [-10.40988387, 39.97562125],\n",
              "                {}\n",
              "            ).addTo(map_ef591bf3d2f262eca39785f3f6e187ed);\n",
              "        \n",
              "    \n",
              "            var marker_243920fc403bf812bb19f8f755a51781 = L.marker(\n",
              "                [-11.02520037, 39.15542431],\n",
              "                {}\n",
              "            ).addTo(map_ef591bf3d2f262eca39785f3f6e187ed);\n",
              "        \n",
              "    \n",
              "            var marker_b1e794ca6624ca7b573ee7d3739778d2 = L.marker(\n",
              "                [-11.0190739, 39.27078821],\n",
              "                {}\n",
              "            ).addTo(map_ef591bf3d2f262eca39785f3f6e187ed);\n",
              "        \n",
              "    \n",
              "            var marker_9b18b0bae07fc7b50e133e4ab15a4457 = L.marker(\n",
              "                [-9.7257709, 39.58169206],\n",
              "                {}\n",
              "            ).addTo(map_ef591bf3d2f262eca39785f3f6e187ed);\n",
              "        \n",
              "    \n",
              "            var marker_c9b1bb1ef5566ce9b41134a30f70f788 = L.marker(\n",
              "                [-7.00018132, 39.0807633],\n",
              "                {}\n",
              "            ).addTo(map_ef591bf3d2f262eca39785f3f6e187ed);\n",
              "        \n",
              "    \n",
              "            var marker_f70e57b6e37f71d98b94994963fc0b1f = L.marker(\n",
              "                [-10.56108902, 39.28999672],\n",
              "                {}\n",
              "            ).addTo(map_ef591bf3d2f262eca39785f3f6e187ed);\n",
              "        \n",
              "    \n",
              "            var marker_dbe351c1c7be401e6592cb39e03d4ff2 = L.marker(\n",
              "                [-6.86048297, 39.35517325],\n",
              "                {}\n",
              "            ).addTo(map_ef591bf3d2f262eca39785f3f6e187ed);\n",
              "        \n",
              "    \n",
              "            var marker_6aa3e14e217d885a3ad307fa82edb6ea = L.marker(\n",
              "                [-6.59136797, 39.11067764],\n",
              "                {}\n",
              "            ).addTo(map_ef591bf3d2f262eca39785f3f6e187ed);\n",
              "        \n",
              "    \n",
              "            var marker_409987a688d2ba108ed7d3c2a5a2f2c8 = L.marker(\n",
              "                [-10.87275281, 39.12516209],\n",
              "                {}\n",
              "            ).addTo(map_ef591bf3d2f262eca39785f3f6e187ed);\n",
              "        \n",
              "    \n",
              "            var marker_fa9948091228d331e2ff311c5343ed3f = L.marker(\n",
              "                [-6.91649866, 39.21996168],\n",
              "                {}\n",
              "            ).addTo(map_ef591bf3d2f262eca39785f3f6e187ed);\n",
              "        \n",
              "    \n",
              "            var marker_5cf1339743a0b54f367b6cab9b34398d = L.marker(\n",
              "                [-10.7034945, 39.57037214],\n",
              "                {}\n",
              "            ).addTo(map_ef591bf3d2f262eca39785f3f6e187ed);\n",
              "        \n",
              "    \n",
              "            var marker_b094c255ea2c6f21561633071f019cd4 = L.marker(\n",
              "                [-6.97618993, 39.28830882],\n",
              "                {}\n",
              "            ).addTo(map_ef591bf3d2f262eca39785f3f6e187ed);\n",
              "        \n",
              "    \n",
              "            var marker_acfa4a006a04291153abef7d1107035e = L.marker(\n",
              "                [-8.52663369, 39.51314946],\n",
              "                {}\n",
              "            ).addTo(map_ef591bf3d2f262eca39785f3f6e187ed);\n",
              "        \n",
              "    \n",
              "            var marker_e6c4b819ae1d3bc6e6fbd9d391fc9cf3 = L.marker(\n",
              "                [-7.19024193, 39.27572898],\n",
              "                {}\n",
              "            ).addTo(map_ef591bf3d2f262eca39785f3f6e187ed);\n",
              "        \n",
              "    \n",
              "            var marker_99ccd8b9c08e907b0f9a775829aa9d8f = L.marker(\n",
              "                [-10.21431825, 40.07786865],\n",
              "                {}\n",
              "            ).addTo(map_ef591bf3d2f262eca39785f3f6e187ed);\n",
              "        \n",
              "    \n",
              "            var marker_7a8c85c42a63e0eb6a2e0656ddfaa758 = L.marker(\n",
              "                [-7.47733382, 39.02531107],\n",
              "                {}\n",
              "            ).addTo(map_ef591bf3d2f262eca39785f3f6e187ed);\n",
              "        \n",
              "    \n",
              "            var marker_dff6190a65589fb96b4032999823130b = L.marker(\n",
              "                [-10.03618671, 39.44332781],\n",
              "                {}\n",
              "            ).addTo(map_ef591bf3d2f262eca39785f3f6e187ed);\n",
              "        \n",
              "    \n",
              "            var marker_9ed65afaa2efc71158846e56ab779698 = L.marker(\n",
              "                [-7.90658417, 39.66683436],\n",
              "                {}\n",
              "            ).addTo(map_ef591bf3d2f262eca39785f3f6e187ed);\n",
              "        \n",
              "    \n",
              "            var marker_d52de6a9a2b0e82065d0ac438ad0e69a = L.marker(\n",
              "                [-6.6852803, 39.13603616],\n",
              "                {}\n",
              "            ).addTo(map_ef591bf3d2f262eca39785f3f6e187ed);\n",
              "        \n",
              "    \n",
              "            var marker_6e249e937421bd3f443c9f82067c070e = L.marker(\n",
              "                [-6.89916957, 39.15886765],\n",
              "                {}\n",
              "            ).addTo(map_ef591bf3d2f262eca39785f3f6e187ed);\n",
              "        \n",
              "    \n",
              "            var marker_060af8cfdfb3052f0fb4972b45c63cf3 = L.marker(\n",
              "                [-8.63293287, 39.36122479],\n",
              "                {}\n",
              "            ).addTo(map_ef591bf3d2f262eca39785f3f6e187ed);\n",
              "        \n",
              "    \n",
              "            var marker_6ed73230dab83a83a7a472ecf0e072d7 = L.marker(\n",
              "                [-7.33249122, 39.097249700000006],\n",
              "                {}\n",
              "            ).addTo(map_ef591bf3d2f262eca39785f3f6e187ed);\n",
              "        \n",
              "    \n",
              "            var marker_c48aebef1acc6a30c7650ac0c8edd001 = L.marker(\n",
              "                [-6.89327148, 39.12016025],\n",
              "                {}\n",
              "            ).addTo(map_ef591bf3d2f262eca39785f3f6e187ed);\n",
              "        \n",
              "    \n",
              "            var marker_cb8e44800bda6adca0f596956677331a = L.marker(\n",
              "                [-6.96544389, 39.09728159],\n",
              "                {}\n",
              "            ).addTo(map_ef591bf3d2f262eca39785f3f6e187ed);\n",
              "        \n",
              "    \n",
              "            var marker_bd4e8055b1f1aaaf2e7bfc8d40c4bbec = L.marker(\n",
              "                [-5.05565842, 39.05502082],\n",
              "                {}\n",
              "            ).addTo(map_ef591bf3d2f262eca39785f3f6e187ed);\n",
              "        \n",
              "    \n",
              "            var marker_7bd9ff2851c8834f5922286300f1770c = L.marker(\n",
              "                [-9.66421358, 39.40216528],\n",
              "                {}\n",
              "            ).addTo(map_ef591bf3d2f262eca39785f3f6e187ed);\n",
              "        \n",
              "    \n",
              "            var marker_26f47c05eb72ee826f078c1e204d091d = L.marker(\n",
              "                [-8.54965789, 39.03320791],\n",
              "                {}\n",
              "            ).addTo(map_ef591bf3d2f262eca39785f3f6e187ed);\n",
              "        \n",
              "    \n",
              "            var marker_e0d2ae3b0f7768646407e81febb954ad = L.marker(\n",
              "                [-10.57238528, 39.13008717],\n",
              "                {}\n",
              "            ).addTo(map_ef591bf3d2f262eca39785f3f6e187ed);\n",
              "        \n",
              "    \n",
              "            var marker_78a957b7ad79c20c2b0c4bdbb808da3a = L.marker(\n",
              "                [-7.62924328, 39.0595482],\n",
              "                {}\n",
              "            ).addTo(map_ef591bf3d2f262eca39785f3f6e187ed);\n",
              "        \n",
              "    \n",
              "            var marker_b26c63bc22e421e28cdeb9d9a3414404 = L.marker(\n",
              "                [-10.61796369, 39.32318452],\n",
              "                {}\n",
              "            ).addTo(map_ef591bf3d2f262eca39785f3f6e187ed);\n",
              "        \n",
              "    \n",
              "            var marker_0167fc2ff725f80af16b8741565c322c = L.marker(\n",
              "                [-10.38981592, 39.15087861],\n",
              "                {}\n",
              "            ).addTo(map_ef591bf3d2f262eca39785f3f6e187ed);\n",
              "        \n",
              "    \n",
              "            var marker_00fe7598207f7933754f7d3e038d8984 = L.marker(\n",
              "                [-10.14574164, 39.57785607],\n",
              "                {}\n",
              "            ).addTo(map_ef591bf3d2f262eca39785f3f6e187ed);\n",
              "        \n",
              "    \n",
              "            var marker_592b7915b12c82cb53f75ef16a9b9561 = L.marker(\n",
              "                [-10.87721968, 39.76165770000001],\n",
              "                {}\n",
              "            ).addTo(map_ef591bf3d2f262eca39785f3f6e187ed);\n",
              "        \n",
              "    \n",
              "            var marker_cf30bd9a7dabfe704c7317911cfe8e28 = L.marker(\n",
              "                [-10.54570006, 39.42490957],\n",
              "                {}\n",
              "            ).addTo(map_ef591bf3d2f262eca39785f3f6e187ed);\n",
              "        \n",
              "    \n",
              "            var marker_8a66839d0a986447c460911ef339ce9a = L.marker(\n",
              "                [-10.76075964, 39.86158641],\n",
              "                {}\n",
              "            ).addTo(map_ef591bf3d2f262eca39785f3f6e187ed);\n",
              "        \n",
              "    \n",
              "            var marker_18d6945b83677e1977fad0fb03c8dc24 = L.marker(\n",
              "                [-10.5360558, 40.27913624],\n",
              "                {}\n",
              "            ).addTo(map_ef591bf3d2f262eca39785f3f6e187ed);\n",
              "        \n",
              "    \n",
              "            var marker_f773be8c521537411eccd66c4c4471d9 = L.marker(\n",
              "                [-10.28329071, 39.88983872],\n",
              "                {}\n",
              "            ).addTo(map_ef591bf3d2f262eca39785f3f6e187ed);\n",
              "        \n",
              "    \n",
              "            var marker_95af7f26f94d08f9c1875191c82198b5 = L.marker(\n",
              "                [-7.09943384, 39.434248],\n",
              "                {}\n",
              "            ).addTo(map_ef591bf3d2f262eca39785f3f6e187ed);\n",
              "        \n",
              "    \n",
              "            var marker_74b3debded3bcd557cc00e131e20449b = L.marker(\n",
              "                [-10.8620958, 39.4491966],\n",
              "                {}\n",
              "            ).addTo(map_ef591bf3d2f262eca39785f3f6e187ed);\n",
              "        \n",
              "    \n",
              "            var marker_171427973bb9e0860b8c3dd5f9cb12ee = L.marker(\n",
              "                [-7.03120771, 39.28726878],\n",
              "                {}\n",
              "            ).addTo(map_ef591bf3d2f262eca39785f3f6e187ed);\n",
              "        \n",
              "    \n",
              "            var marker_d0cedd789199813de0e8e89fe84fd6d5 = L.marker(\n",
              "                [-10.45006692, 39.95563075],\n",
              "                {}\n",
              "            ).addTo(map_ef591bf3d2f262eca39785f3f6e187ed);\n",
              "        \n",
              "    \n",
              "            var marker_1248de58b9bae4763ef530a01722b2c5 = L.marker(\n",
              "                [-10.81823192, 39.19162062],\n",
              "                {}\n",
              "            ).addTo(map_ef591bf3d2f262eca39785f3f6e187ed);\n",
              "        \n",
              "    \n",
              "            var marker_dc58922e7aa4b25f8914faa2ab805eff = L.marker(\n",
              "                [-8.5425317, 39.14863121],\n",
              "                {}\n",
              "            ).addTo(map_ef591bf3d2f262eca39785f3f6e187ed);\n",
              "        \n",
              "&lt;/script&gt;\" style=\"position:absolute;width:100%;height:100%;left:0;top:0;border:none !important;\" allowfullscreen webkitallowfullscreen mozallowfullscreen></iframe></div></div>"
            ]
          },
          "metadata": {},
          "execution_count": 22
        }
      ]
    },
    {
      "cell_type": "markdown",
      "source": [
        "Observations:\n",
        "\n",
        "We had observed from above plots latitudes and longitudes values are some what corrputed from border areas of tanzania."
      ],
      "metadata": {
        "id": "0P_Jq9klUp_u"
      }
    },
    {
      "cell_type": "markdown",
      "source": [
        "**Pdf of continuous features**"
      ],
      "metadata": {
        "id": "UbON8i49mPUI"
      }
    },
    {
      "cell_type": "code",
      "source": [
        "train_data[continous_features].hist(bins=50, figsize=(16,12))"
      ],
      "metadata": {
        "colab": {
          "base_uri": "https://localhost:8080/",
          "height": 890
        },
        "id": "PE5jzcEvEpgK",
        "outputId": "b48bdf3d-a306-40f8-fe0c-3f132aa49981"
      },
      "execution_count": null,
      "outputs": [
        {
          "output_type": "execute_result",
          "data": {
            "text/plain": [
              "array([[<matplotlib.axes._subplots.AxesSubplot object at 0x7f848b42ce50>,\n",
              "        <matplotlib.axes._subplots.AxesSubplot object at 0x7f848a906310>,\n",
              "        <matplotlib.axes._subplots.AxesSubplot object at 0x7f848a93d910>],\n",
              "       [<matplotlib.axes._subplots.AxesSubplot object at 0x7f848a8f2f10>,\n",
              "        <matplotlib.axes._subplots.AxesSubplot object at 0x7f848a8b4550>,\n",
              "        <matplotlib.axes._subplots.AxesSubplot object at 0x7f848a86cb50>],\n",
              "       [<matplotlib.axes._subplots.AxesSubplot object at 0x7f848a830210>,\n",
              "        <matplotlib.axes._subplots.AxesSubplot object at 0x7f848a7e5750>,\n",
              "        <matplotlib.axes._subplots.AxesSubplot object at 0x7f848a7e5790>]],\n",
              "      dtype=object)"
            ]
          },
          "metadata": {},
          "execution_count": 20
        },
        {
          "output_type": "display_data",
          "data": {
            "text/plain": [
              "<Figure size 1152x864 with 9 Axes>"
            ],
            "image/png": "[encoded data removed]"
          },
          "metadata": {
            "needs_background": "light"
          }
        }
      ]
    },
    {
      "cell_type": "markdown",
      "source": [
        "Observations:\n",
        "\n",
        "1.Above plot we had observed that amount_tsh pdf is right skewed so we apply log transormation to smoothen it and check.\n",
        "\n",
        "2.Remaining plots are slightly hard to interpret as there are not following proper distributions."
      ],
      "metadata": {
        "id": "GvEd5ZB3mWSI"
      }
    },
    {
      "cell_type": "markdown",
      "source": [
        "**pdf of amount_tsh**"
      ],
      "metadata": {
        "id": "MvwofHnGrLAw"
      }
    },
    {
      "cell_type": "code",
      "source": [
        "sns.FacetGrid(train_data, hue=\"status_group\", size=10) \\\n",
        "   .map(sns.distplot, \"amount_tsh\") \\\n",
        "   .add_legend();\n",
        "plt.title(\"Histogram of status_group\")\n",
        "plt.ylabel(\"Density\")\n",
        "plt.show()"
      ],
      "metadata": {
        "colab": {
          "base_uri": "https://localhost:8080/",
          "height": 745
        },
        "id": "n2m8L-7km2bF",
        "outputId": "eae561ac-e9c7-42f3-8b0e-dc278dad06ec"
      },
      "execution_count": null,
      "outputs": [
        {
          "output_type": "display_data",
          "data": {
            "text/plain": [
              "<Figure size 871.875x720 with 1 Axes>"
            ],
            "image/png": "[encoded data removed]"
          },
          "metadata": {
            "needs_background": "light"
          }
        }
      ]
    },
    {
      "cell_type": "code",
      "source": [
        "sns.FacetGrid(train_data, hue=\"status_group\", size=10) \\\n",
        "   .map(sns.distplot, \"population\") \\\n",
        "   .add_legend();\n",
        "plt.title(\"Histogram of population\")\n",
        "plt.ylabel(\"Density\")\n",
        "plt.show()"
      ],
      "metadata": {
        "colab": {
          "base_uri": "https://localhost:8080/",
          "height": 745
        },
        "id": "RWcqiyw5z76A",
        "outputId": "41525baa-b491-459e-ae65-5af0ae2912b0"
      },
      "execution_count": null,
      "outputs": [
        {
          "output_type": "display_data",
          "data": {
            "text/plain": [
              "<Figure size 871.875x720 with 1 Axes>"
            ],
            "image/png": "[encoded data removed]"
          },
          "metadata": {
            "needs_background": "light"
          }
        }
      ]
    },
    {
      "cell_type": "markdown",
      "source": [
        "**Log transformation**"
      ],
      "metadata": {
        "id": "s6Rp2jBryed9"
      }
    },
    {
      "cell_type": "code",
      "source": [
        "log_amt_tsh=[]\n",
        "for i in train_data['amount_tsh']:\n",
        "  log_amt=np.log(i+0.0001)\n",
        "  log_amt_tsh.append(log_amt)"
      ],
      "metadata": {
        "id": "fSLbQ-jts1MP"
      },
      "execution_count": null,
      "outputs": []
    },
    {
      "cell_type": "code",
      "source": [
        "train_data['amount_tsh_log']=log_amt_tsh"
      ],
      "metadata": {
        "id": "dqWWgwkTwiAY"
      },
      "execution_count": null,
      "outputs": []
    },
    {
      "cell_type": "markdown",
      "source": [
        "**Plot for Log tranformed Amount_tsh feature**"
      ],
      "metadata": {
        "id": "U4cRXB1RykFE"
      }
    },
    {
      "cell_type": "code",
      "source": [
        "sns.FacetGrid(train_data, hue=\"status_group\", size=10) \\\n",
        "   .map(sns.distplot, \"amount_tsh_log\") \\\n",
        "   .add_legend();\n",
        "plt.title(\"Histogram of amount_tsh\")\n",
        "plt.ylabel(\"Density\")\n",
        "plt.show()"
      ],
      "metadata": {
        "colab": {
          "base_uri": "https://localhost:8080/",
          "height": 745
        },
        "id": "t_LNhZJ8wWI4",
        "outputId": "0f9cb857-9e3e-4e19-e566-d146c9694e2d"
      },
      "execution_count": null,
      "outputs": [
        {
          "output_type": "display_data",
          "data": {
            "text/plain": [
              "<Figure size 871.875x720 with 1 Axes>"
            ],
            "image/png": "[encoded data removed]"
          },
          "metadata": {
            "needs_background": "light"
          }
        }
      ]
    },
    {
      "cell_type": "markdown",
      "source": [
        "Observations:\n",
        "\n",
        "After applying log tranformation most of the data obtained right skewed and some part following like normal distribution."
      ],
      "metadata": {
        "id": "-qvPEyQKyqt4"
      }
    },
    {
      "cell_type": "code",
      "source": [],
      "metadata": {
        "id": "TWig050zChYa"
      },
      "execution_count": null,
      "outputs": []
    },
    {
      "cell_type": "markdown",
      "source": [
        "**Q-Q plot**"
      ],
      "metadata": {
        "id": "h12SmdS-EcRS"
      }
    },
    {
      "cell_type": "code",
      "source": [
        "from statsmodels.graphics.gofplots import qqplot \n",
        "from scipy.stats import norm"
      ],
      "metadata": {
        "id": "_tSSLEqsFCbB"
      },
      "execution_count": null,
      "outputs": []
    },
    {
      "cell_type": "code",
      "source": [
        "#https://towardsdatascience.com/how-to-use-q-q-plot-for-checking-the-distribution-of-our-data-c798d0577369\n",
        "qqplot(train_data['amount_tsh_log'],norm,fit=True,line=\"45\") \n",
        "plt.show()"
      ],
      "metadata": {
        "colab": {
          "base_uri": "https://localhost:8080/",
          "height": 279
        },
        "id": "s92Uha7OCeFp",
        "outputId": "6a7b85c8-56ee-44fb-8289-b5dd4c0d1ab3"
      },
      "execution_count": null,
      "outputs": [
        {
          "output_type": "display_data",
          "data": {
            "text/plain": [
              "<Figure size 432x288 with 1 Axes>"
            ],
            "image/png": "[encoded data removed]"
          },
          "metadata": {
            "needs_background": "light"
          }
        }
      ]
    },
    {
      "cell_type": "markdown",
      "source": [
        "**Observations:**\n",
        "\n",
        "We found that after applying log to feature amount_tsh it does not following normal distribution"
      ],
      "metadata": {
        "id": "a4aLoVpAEg5h"
      }
    },
    {
      "cell_type": "markdown",
      "source": [
        "**Log tranformation for population feature**"
      ],
      "metadata": {
        "id": "ch_cw-YP1dKJ"
      }
    },
    {
      "cell_type": "code",
      "source": [
        "# Calculate logarithm to base 2 \n",
        "# on 'Salary' column\n",
        "log_population_tra=[]\n",
        "for i in train_data['population']:\n",
        "  log_population=np.log(i+1)\n",
        "  log_population_tra.append(log_population)"
      ],
      "metadata": {
        "id": "PkmQvSNW0M2Y"
      },
      "execution_count": null,
      "outputs": []
    },
    {
      "cell_type": "code",
      "source": [
        "train_data['log_population_tra']=log_population_tra #adding columns to train data"
      ],
      "metadata": {
        "id": "rbGBP7Ak1DcI"
      },
      "execution_count": null,
      "outputs": []
    },
    {
      "cell_type": "code",
      "source": [
        "sns.FacetGrid(train_data, hue=\"status_group\", size=10) \\\n",
        "   .map(sns.distplot, \"log_population_tra\") \\\n",
        "   .add_legend();\n",
        "plt.title(\"Histogram of log_population_tra\")\n",
        "plt.ylabel(\"Density\")\n",
        "plt.show()"
      ],
      "metadata": {
        "colab": {
          "base_uri": "https://localhost:8080/",
          "height": 745
        },
        "id": "PRZ2VgPt1JGY",
        "outputId": "fc9d519f-172a-44fe-cee1-43b52ca72619"
      },
      "execution_count": null,
      "outputs": [
        {
          "output_type": "display_data",
          "data": {
            "text/plain": [
              "<Figure size 871.875x720 with 1 Axes>"
            ],
            "image/png": "[encoded data removed]"
          },
          "metadata": {
            "needs_background": "light"
          }
        }
      ]
    },
    {
      "cell_type": "markdown",
      "source": [
        "Observations:\n",
        "\n",
        "After applying log tranformation most of the data obtained right skewed and we do not interpret anything from this plot."
      ],
      "metadata": {
        "id": "dsuY9MAo1SCk"
      }
    },
    {
      "cell_type": "markdown",
      "source": [
        "**Cdf plots for population feature:**"
      ],
      "metadata": {
        "id": "twnsuNsn1pY4"
      }
    },
    {
      "cell_type": "code",
      "source": [
        "counts, bin_edges = np.histogram(train_data['population'], bins=10,density = True)\n",
        "pdf = counts/(sum(counts))\n",
        "print(bin_edges)\n",
        "cdf = np.cumsum(pdf)\n",
        "plt.plot(bin_edges[1:], cdf)\n",
        "plt.title(\"cdf for population \")\n",
        "plt.xlabel(\"population\")\n",
        "plt.ylabel(\"% of person's\")\n",
        "plt.show();"
      ],
      "metadata": {
        "colab": {
          "base_uri": "https://localhost:8080/",
          "height": 330
        },
        "id": "HR_0EHIrZiYL",
        "outputId": "fc0bac9d-ad77-4cbc-c746-e88bfce87b36"
      },
      "execution_count": null,
      "outputs": [
        {
          "output_type": "stream",
          "name": "stdout",
          "text": [
            "[    0.  3050.  6100.  9150. 12200. 15250. 18300. 21350. 24400. 27450.\n",
            " 30500.]\n"
          ]
        },
        {
          "output_type": "display_data",
          "data": {
            "text/plain": [
              "<Figure size 432x288 with 1 Axes>"
            ],
            "image/png": "[encoded data removed]"
          },
          "metadata": {
            "needs_background": "light"
          }
        }
      ]
    },
    {
      "cell_type": "markdown",
      "source": [
        "Observations:\n",
        "\n",
        "above plot indicates that 99% percent of all region population 5000 approximately."
      ],
      "metadata": {
        "id": "TQ__v35S1yko"
      }
    },
    {
      "cell_type": "markdown",
      "source": [
        "**Correlation plots:**"
      ],
      "metadata": {
        "id": "8NNbdwVl2LTI"
      }
    },
    {
      "cell_type": "code",
      "source": [
        "plt.subplots(figsize=(16,9))\n",
        "correlation_matrix = df_train[continous_features].corr()\n",
        "sns.heatmap(correlation_matrix, annot=True,vmin=0, vmax=1,linewidths=.5)"
      ],
      "metadata": {
        "colab": {
          "base_uri": "https://localhost:8080/",
          "height": 559
        },
        "id": "kDKpngSPFQux",
        "outputId": "c9d4978a-80a8-4591-d68b-0868782d6708"
      },
      "execution_count": null,
      "outputs": [
        {
          "output_type": "execute_result",
          "data": {
            "text/plain": [
              "<matplotlib.axes._subplots.AxesSubplot at 0x7f8486c4d290>"
            ]
          },
          "metadata": {},
          "execution_count": 30
        },
        {
          "output_type": "display_data",
          "data": {
            "text/plain": [
              "<Figure size 1152x648 with 2 Axes>"
            ],
            "image/png": "[encoded data removed]"
          },
          "metadata": {
            "needs_background": "light"
          }
        }
      ]
    },
    {
      "cell_type": "markdown",
      "source": [
        "Observations:\n",
        "\n",
        "Above correlation heat map indicates region code and district code are correlated and gps_height and construction year are also correlated."
      ],
      "metadata": {
        "id": "qZMLTASq3-Tf"
      }
    },
    {
      "cell_type": "markdown",
      "source": [
        "**Calculating operational year**"
      ],
      "metadata": {
        "id": "EvgI5bvj5zRx"
      }
    },
    {
      "cell_type": "markdown",
      "source": [
        "We can calculate operational year of pump by substracting date recorded to construction year"
      ],
      "metadata": {
        "id": "q1wVBn1Y5-_g"
      }
    },
    {
      "cell_type": "code",
      "source": [
        "train_data.construction_year"
      ],
      "metadata": {
        "colab": {
          "base_uri": "https://localhost:8080/"
        },
        "id": "6aRkMVYy7XOB",
        "outputId": "dfe20ffb-5563-4570-ac42-6c0a15f12460"
      },
      "execution_count": null,
      "outputs": [
        {
          "output_type": "execute_result",
          "data": {
            "text/plain": [
              "0        1999\n",
              "1        2010\n",
              "2        2009\n",
              "3        1986\n",
              "4           0\n",
              "         ... \n",
              "59395    1999\n",
              "59396    1996\n",
              "59397       0\n",
              "59398       0\n",
              "59399    2002\n",
              "Name: construction_year, Length: 59400, dtype: int64"
            ]
          },
          "metadata": {},
          "execution_count": 31
        }
      ]
    },
    {
      "cell_type": "code",
      "source": [
        "#https://github.com/vaibhavshukla182/Tanzania-Water-Supply/blob/master/data_visualisation_and_cleaning.ipynb\n",
        "train_data['date_recorded'] = pd.to_datetime(train_data['date_recorded'])\n",
        "train_data['operational_year'] = train_data.date_recorded.dt.year - train_data.construction_year\n",
        "train_data.operational_year.head(5)"
      ],
      "metadata": {
        "colab": {
          "base_uri": "https://localhost:8080/"
        },
        "id": "OQMiTH0Bf_j_",
        "outputId": "9faf4fc6-9793-4ead-e5fd-d4f14c0290b3"
      },
      "execution_count": null,
      "outputs": [
        {
          "output_type": "execute_result",
          "data": {
            "text/plain": [
              "0      12\n",
              "1       3\n",
              "2       4\n",
              "3      27\n",
              "4    2011\n",
              "Name: operational_year, dtype: int64"
            ]
          },
          "metadata": {},
          "execution_count": 32
        }
      ]
    },
    {
      "cell_type": "code",
      "source": [
        "plt.figure(figsize=(24, 9))\n",
        "sns.countplot(data=train_data,x='operational_year',hue='status_group')"
      ],
      "metadata": {
        "colab": {
          "base_uri": "https://localhost:8080/",
          "height": 509
        },
        "id": "N3xkS5pd6Jx4",
        "outputId": "94684687-03a5-4ab5-d39c-004a6c260f67"
      },
      "execution_count": null,
      "outputs": [
        {
          "output_type": "execute_result",
          "data": {
            "text/plain": [
              "<matplotlib.axes._subplots.AxesSubplot at 0x7f848ad51050>"
            ]
          },
          "metadata": {},
          "execution_count": 33
        },
        {
          "output_type": "display_data",
          "data": {
            "text/plain": [
              "<Figure size 1728x648 with 1 Axes>"
            ],
            "image/png": "[encoded data removed]"
          },
          "metadata": {
            "needs_background": "light"
          }
        }
      ]
    },
    {
      "cell_type": "markdown",
      "source": [
        "Observations:\n",
        "\n",
        "From the above plot we conclude that construction year has zero values so we can fill with median values and see the plot again."
      ],
      "metadata": {
        "id": "kDljUstY7xMf"
      }
    },
    {
      "cell_type": "code",
      "source": [
        "train_data['construction_year'].replace(to_replace = 0, value = train_data['construction_year'].median(), inplace=True)"
      ],
      "metadata": {
        "id": "J-e-1qLA8OkA"
      },
      "execution_count": null,
      "outputs": []
    },
    {
      "cell_type": "code",
      "source": [
        "#https://github.com/vaibhavshukla182/Tanzania-Water-Supply/blob/master/data_visualisation_and_cleaning.ipynb\n",
        "train_data['date_recorded'] = pd.to_datetime(train_data['date_recorded'])\n",
        "train_data['operational_year'] = train_data.date_recorded.dt.year - train_data.construction_year\n",
        "train_data.operational_year.head(5)"
      ],
      "metadata": {
        "colab": {
          "base_uri": "https://localhost:8080/"
        },
        "id": "fxbCeQSl8VTQ",
        "outputId": "4e0cada7-e8f1-4331-d3d5-851a4cbbf85b"
      },
      "execution_count": null,
      "outputs": [
        {
          "output_type": "execute_result",
          "data": {
            "text/plain": [
              "0      12\n",
              "1       3\n",
              "2       4\n",
              "3      27\n",
              "4    2011\n",
              "Name: operational_year, dtype: int64"
            ]
          },
          "metadata": {},
          "execution_count": 35
        }
      ]
    },
    {
      "cell_type": "code",
      "source": [
        "plt.figure(figsize=(24, 9))\n",
        "sns.countplot(data=train_data,x='operational_year',hue='status_group')"
      ],
      "metadata": {
        "colab": {
          "base_uri": "https://localhost:8080/",
          "height": 509
        },
        "id": "tHRPyyTe9Ozg",
        "outputId": "9807cb2e-29ee-4777-ba30-7c587db2215f"
      },
      "execution_count": null,
      "outputs": [
        {
          "output_type": "execute_result",
          "data": {
            "text/plain": [
              "<matplotlib.axes._subplots.AxesSubplot at 0x7f848acc9b90>"
            ]
          },
          "metadata": {},
          "execution_count": 36
        },
        {
          "output_type": "display_data",
          "data": {
            "text/plain": [
              "<Figure size 1728x648 with 1 Axes>"
            ],
            "image/png": "[encoded data removed]"
          },
          "metadata": {
            "needs_background": "light"
          }
        }
      ]
    },
    {
      "cell_type": "markdown",
      "source": [
        "Observations:\n",
        "\n",
        "We can see from above plot if the pump operational year are increasing it is getting non functional or functional needs repair."
      ],
      "metadata": {
        "id": "x0R8FWpF9YnG"
      }
    },
    {
      "cell_type": "markdown",
      "source": [
        "**Impact of water quality on pumps**"
      ],
      "metadata": {
        "id": "E5lbjBvGvfye"
      }
    },
    {
      "cell_type": "code",
      "source": [
        "plt.figure(figsize=(14,6))\n",
        "sns.countplot(data=train_data,x='water_quality',hue='status_group')\n",
        "plt.legend(bbox_to_anchor=(1.05, 1), loc=2, borderaxespad=0.)"
      ],
      "metadata": {
        "colab": {
          "base_uri": "https://localhost:8080/",
          "height": 408
        },
        "id": "pFnoA-w8zsil",
        "outputId": "c2a92e0e-2c85-4d20-c94a-f786ab64812f"
      },
      "execution_count": null,
      "outputs": [
        {
          "output_type": "execute_result",
          "data": {
            "text/plain": [
              "<matplotlib.legend.Legend at 0x7f84877c6ed0>"
            ]
          },
          "metadata": {},
          "execution_count": 37
        },
        {
          "output_type": "display_data",
          "data": {
            "text/plain": [
              "<Figure size 1008x432 with 1 Axes>"
            ],
            "image/png": "[encoded data removed]"
          },
          "metadata": {
            "needs_background": "light"
          }
        }
      ]
    },
    {
      "cell_type": "markdown",
      "source": [
        "Observations:\n",
        "\n",
        "Above plot indicates that soft water has less impact on pumps while salty water has more non functional pumps."
      ],
      "metadata": {
        "id": "t85DePCb0Zun"
      }
    },
    {
      "cell_type": "markdown",
      "source": [
        "**Impact of source_type on pumps**"
      ],
      "metadata": {
        "id": "rsrc2Wjrvoe7"
      }
    },
    {
      "cell_type": "code",
      "source": [
        "plt.figure(figsize=(24, 9))\n",
        "sns.countplot(data=train_data,x='source_type',hue='status_group')"
      ],
      "metadata": {
        "colab": {
          "base_uri": "https://localhost:8080/",
          "height": 475
        },
        "id": "zs-7KpNz01dl",
        "outputId": "64d361b0-70dd-44e0-81c1-1763b0f1e3f7"
      },
      "execution_count": null,
      "outputs": [
        {
          "output_type": "execute_result",
          "data": {
            "text/plain": [
              "<matplotlib.axes._subplots.AxesSubplot at 0x7f16550f60d0>"
            ]
          },
          "metadata": {},
          "execution_count": 13
        },
        {
          "output_type": "display_data",
          "data": {
            "text/plain": [
              "<Figure size 1728x648 with 1 Axes>"
            ],
            "image/png": "[encoded data removed]"
          },
          "metadata": {
            "needs_background": "light"
          }
        }
      ]
    },
    {
      "cell_type": "markdown",
      "source": [
        "Observations:\n",
        "\n",
        "Above plot indicates that borehole and shallow well source type of water points has high non functional pumps."
      ],
      "metadata": {
        "id": "yjSbTwCK08vc"
      }
    },
    {
      "cell_type": "markdown",
      "source": [
        "**Impact of quantity on pumps**"
      ],
      "metadata": {
        "id": "yumoXckxvyKx"
      }
    },
    {
      "cell_type": "code",
      "source": [
        "plt.figure(figsize=(20,10))\n",
        "sns.countplot(data=train_data,x='quantity',hue='status_group')"
      ],
      "metadata": {
        "colab": {
          "base_uri": "https://localhost:8080/",
          "height": 611
        },
        "id": "pm2IW3P_1YKU",
        "outputId": "c79175ab-6c0b-4822-827f-917725b17093"
      },
      "execution_count": null,
      "outputs": [
        {
          "output_type": "execute_result",
          "data": {
            "text/plain": [
              "<matplotlib.axes._subplots.AxesSubplot at 0x7f16551009d0>"
            ]
          },
          "metadata": {},
          "execution_count": 14
        },
        {
          "output_type": "display_data",
          "data": {
            "text/plain": [
              "<Figure size 1440x720 with 1 Axes>"
            ],
            "image/png": "[encoded data removed]"
          },
          "metadata": {
            "needs_background": "light"
          }
        }
      ]
    },
    {
      "cell_type": "markdown",
      "source": [
        "Observations:\n",
        "\n",
        "Above plot clearly indicates that dry quantity has lot of non functional water points."
      ],
      "metadata": {
        "id": "ioVNi9Hb1fyF"
      }
    },
    {
      "cell_type": "markdown",
      "source": [
        "**Duplicate Features**"
      ],
      "metadata": {
        "id": "2XNMzo1Tv9MF"
      }
    },
    {
      "cell_type": "code",
      "source": [
        "train_data.groupby(['management', 'management_group']).size() "
      ],
      "metadata": {
        "colab": {
          "base_uri": "https://localhost:8080/"
        },
        "id": "y7ZJ0O8LFRVG",
        "outputId": "b44b5d9a-15fc-4e70-b6f4-2ec0828fb34e"
      },
      "execution_count": null,
      "outputs": [
        {
          "output_type": "execute_result",
          "data": {
            "text/plain": [
              "management        management_group\n",
              "company           commercial            685\n",
              "other             other                 844\n",
              "other - school    other                  99\n",
              "parastatal        parastatal           1768\n",
              "private operator  commercial           1971\n",
              "trust             commercial             78\n",
              "unknown           unknown               561\n",
              "vwc               user-group          40507\n",
              "water authority   commercial            904\n",
              "water board       user-group           2933\n",
              "wua               user-group           2535\n",
              "wug               user-group           6515\n",
              "dtype: int64"
            ]
          },
          "metadata": {},
          "execution_count": 60
        }
      ]
    },
    {
      "cell_type": "code",
      "source": [
        "train_data.groupby(['source', 'source_type']).size() "
      ],
      "metadata": {
        "colab": {
          "base_uri": "https://localhost:8080/"
        },
        "id": "o5dUGm7XEdkP",
        "outputId": "37863ec3-b751-4ad6-ca1f-c8caeea0c5e5"
      },
      "execution_count": null,
      "outputs": [
        {
          "output_type": "execute_result",
          "data": {
            "text/plain": [
              "source                source_type         \n",
              "dam                   dam                       656\n",
              "hand dtw              borehole                  874\n",
              "lake                  river/lake                765\n",
              "machine dbh           borehole                11075\n",
              "other                 other                     212\n",
              "rainwater harvesting  rainwater harvesting     2295\n",
              "river                 river/lake               9612\n",
              "shallow well          shallow well            16824\n",
              "spring                spring                  17021\n",
              "unknown               other                      66\n",
              "dtype: int64"
            ]
          },
          "metadata": {},
          "execution_count": 57
        }
      ]
    },
    {
      "cell_type": "code",
      "source": [
        "train_data.groupby(['extraction_type_group','extraction_type']).size()"
      ],
      "metadata": {
        "colab": {
          "base_uri": "https://localhost:8080/"
        },
        "id": "iCcD8plfE84v",
        "outputId": "c56cc491-06ab-4170-b85e-b4ee427cc7c2"
      },
      "execution_count": null,
      "outputs": [
        {
          "output_type": "execute_result",
          "data": {
            "text/plain": [
              "extraction_type_group  extraction_type          \n",
              "afridev                afridev                       1770\n",
              "gravity                gravity                      26780\n",
              "india mark ii          india mark ii                 2400\n",
              "india mark iii         india mark iii                  98\n",
              "mono                   mono                          2865\n",
              "nira/tanira            nira/tanira                   8154\n",
              "other                  other                         6430\n",
              "other handpump         other - mkulima/shinyanga        2\n",
              "                       other - play pump               85\n",
              "                       other - swn 81                 229\n",
              "                       walimi                          48\n",
              "other motorpump        cemo                            90\n",
              "                       climax                          32\n",
              "rope pump              other - rope pump              451\n",
              "submersible            ksb                           1415\n",
              "                       submersible                   4764\n",
              "swn 80                 swn 80                        3670\n",
              "wind-powered           windmill                       117\n",
              "dtype: int64"
            ]
          },
          "metadata": {},
          "execution_count": 58
        }
      ]
    },
    {
      "cell_type": "code",
      "source": [
        "train_data.groupby(['waterpoint_type', 'waterpoint_type_group']).size() "
      ],
      "metadata": {
        "colab": {
          "base_uri": "https://localhost:8080/"
        },
        "id": "NeBPqWnKEJ6V",
        "outputId": "4fa40eb8-5d4b-4ef0-df26-bb42cd9468b5"
      },
      "execution_count": null,
      "outputs": [
        {
          "output_type": "execute_result",
          "data": {
            "text/plain": [
              "waterpoint_type              waterpoint_type_group\n",
              "cattle trough                cattle trough              116\n",
              "communal standpipe           communal standpipe       28522\n",
              "communal standpipe multiple  communal standpipe        6103\n",
              "dam                          dam                          7\n",
              "hand pump                    hand pump                17488\n",
              "improved spring              improved spring            784\n",
              "other                        other                     6380\n",
              "dtype: int64"
            ]
          },
          "metadata": {},
          "execution_count": 55
        }
      ]
    },
    {
      "cell_type": "code",
      "source": [
        "train_data.groupby(['quantity', 'quantity_group']).size() "
      ],
      "metadata": {
        "colab": {
          "base_uri": "https://localhost:8080/"
        },
        "id": "csJ_y4xlD8uA",
        "outputId": "a50ed7c3-60d2-4779-eec2-255ec83aa191"
      },
      "execution_count": null,
      "outputs": [
        {
          "output_type": "execute_result",
          "data": {
            "text/plain": [
              "quantity      quantity_group\n",
              "dry           dry                6246\n",
              "enough        enough            33186\n",
              "insufficient  insufficient      15129\n",
              "seasonal      seasonal           4050\n",
              "unknown       unknown             789\n",
              "dtype: int64"
            ]
          },
          "metadata": {},
          "execution_count": 54
        }
      ]
    },
    {
      "cell_type": "code",
      "source": [
        "train_data.groupby(['payment', 'payment_type']).size() "
      ],
      "metadata": {
        "colab": {
          "base_uri": "https://localhost:8080/"
        },
        "id": "_6cYAfY6DzPQ",
        "outputId": "95a2e549-1472-4413-a13d-b974a9de355a"
      },
      "execution_count": null,
      "outputs": [
        {
          "output_type": "execute_result",
          "data": {
            "text/plain": [
              "payment                payment_type\n",
              "never pay              never pay       25348\n",
              "other                  other            1054\n",
              "pay annually           annually         3642\n",
              "pay monthly            monthly          8300\n",
              "pay per bucket         per bucket       8985\n",
              "pay when scheme fails  on failure       3914\n",
              "unknown                unknown          8157\n",
              "dtype: int64"
            ]
          },
          "metadata": {},
          "execution_count": 53
        }
      ]
    },
    {
      "cell_type": "code",
      "source": [
        "train_data.groupby(['water_quality', 'quality_group']).size() "
      ],
      "metadata": {
        "colab": {
          "base_uri": "https://localhost:8080/"
        },
        "id": "TNP_6DcWDYcK",
        "outputId": "36e9bd29-09e3-4ffb-b24c-e66a56cc1e79"
      },
      "execution_count": null,
      "outputs": [
        {
          "output_type": "execute_result",
          "data": {
            "text/plain": [
              "water_quality       quality_group\n",
              "coloured            colored            490\n",
              "fluoride            fluoride           200\n",
              "fluoride abandoned  fluoride            17\n",
              "milky               milky              804\n",
              "salty               salty             4856\n",
              "salty abandoned     salty              339\n",
              "soft                good             50818\n",
              "unknown             unknown           1876\n",
              "dtype: int64"
            ]
          },
          "metadata": {},
          "execution_count": 52
        }
      ]
    },
    {
      "cell_type": "markdown",
      "source": [
        "**#https://pandas.pydata.org/docs/reference/api/pandas.DataFrame.groupby.html**\n",
        "\n",
        "**Observations:**\n",
        "\n",
        "From the above groupby functions indicates that features will contain same information so we can drop those columns.\n"
      ],
      "metadata": {
        "id": "lHw1w4H5K4Q2"
      }
    },
    {
      "cell_type": "markdown",
      "source": [
        "**Total observations and implementations for feature engineering:**\n",
        "\n",
        "1.we need to fill with NAN/other as a category to accomodate for missing values in scheme, scheme_management, installer and funder.\n",
        "\n",
        "2.We will drop date_recorded and construction year as we introduced operation year from that features.\n",
        "\n",
        "3.For feature engineering we can use encoding techniques like one hot encoding or label encoding.\n",
        "\n",
        "4.As per correlation plot district_code and region_code are correlated so we can drop one feature.\n",
        "\n",
        "5.Latitude and longitude features have lot of extreme values so we can fill with median imputation for that features."
      ],
      "metadata": {
        "id": "SjnbdBdaMpGv"
      }
    }
  ]
}